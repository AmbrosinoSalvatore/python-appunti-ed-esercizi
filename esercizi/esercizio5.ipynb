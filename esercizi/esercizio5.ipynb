{
  "nbformat": 4,
  "nbformat_minor": 0,
  "metadata": {
    "colab": {
      "name": "es 5",
      "provenance": [],
      "collapsed_sections": []
    },
    "kernelspec": {
      "name": "python3",
      "display_name": "Python 3"
    },
    "language_info": {
      "name": "python"
    }
  },
  "cells": [
    {
      "cell_type": "markdown",
      "metadata": {
        "id": "Q3XvNhsiPhNF"
      },
      "source": [
        "1. scrivere una funzione chiamata max che dati due numeri restituisca il più grande. Scrivere poi un programma che, utilizzando la funzione creata, trovi il massimo tra tre numeri inseriti dall'utente. "
      ]
    },
    {
      "cell_type": "code",
      "metadata": {
        "colab": {
          "base_uri": "https://localhost:8080/"
        },
        "id": "JvAZPoN4PZ1_",
        "outputId": "6f08215f-47cd-4c15-bef4-be1e50f31b76"
      },
      "source": [
        "def max(x,y):\n",
        "  if x > y :\n",
        "    return x\n",
        "  else:\n",
        "    return y\n",
        "max(max(int(input(\"x = \")), int(input(\"y = \"))), int(input(\"v = \")))\n"
      ],
      "execution_count": null,
      "outputs": [
        {
          "name": "stdout",
          "output_type": "stream",
          "text": [
            "45\n",
            "76\n",
            "7\n"
          ]
        },
        {
          "output_type": "execute_result",
          "data": {
            "text/plain": [
              "76"
            ]
          },
          "metadata": {},
          "execution_count": 41
        }
      ]
    },
    {
      "cell_type": "markdown",
      "metadata": {
        "id": "-ofR_ctyQdKG"
      },
      "source": [
        "2. scrivere una funzione chiamata sommaLista che data una lista di interi restituisca la somma di tutti gli elementi della lista. Scrivere poi un programma che, utilizzando la funzione create, trovi la somma degli elementi di una lista inserita dall'utente. \n"
      ]
    },
    {
      "cell_type": "code",
      "metadata": {
        "colab": {
          "base_uri": "https://localhost:8080/"
        },
        "id": "lfAzFPdyQdWG",
        "outputId": "1160c74b-31d0-4295-979f-387c1aeb64df"
      },
      "source": [
        "lista1 = list(input(\"inserire la lista \").split(','))\n",
        "lista1 = list([int(n) for n in lista1])\n",
        "def sommalista(lista1):\n",
        "  return sum(lista1)\n",
        "print(sommalista(lista1))\n"
      ],
      "execution_count": null,
      "outputs": [
        {
          "output_type": "stream",
          "name": "stdout",
          "text": [
            "inserire la lista 12,2\n",
            "14\n"
          ]
        }
      ]
    },
    {
      "cell_type": "markdown",
      "metadata": {
        "id": "YYTHovbBQddt"
      },
      "source": [
        "3. utilizzando le funzioni create precedentemente, scrivere un programma che permetta all'utente di inserire tre liste e di avere il valore massimo della somma degli elementi delle tre liste."
      ]
    },
    {
      "cell_type": "code",
      "metadata": {
        "id": "OQJPYTGuQdjV",
        "colab": {
          "base_uri": "https://localhost:8080/"
        },
        "outputId": "24dcb3af-3237-4714-ea0f-30413319f97c"
      },
      "source": [
        "lista1 = list(input(\"inserire la lista1 \").split(','))\n",
        "lista1 = list([int(n) for n in lista1])\n",
        "lista2 = list(input(\"inserire la lista2 \").split(','))\n",
        "lista2 = list([int(n) for n in lista2])\n",
        "lista3 = list(input(\"inserire la lista3 \").split(','))\n",
        "lista3 = list([int(n) for n in lista3])\n",
        "def somma_lista(lista1,lista2,lista3):\n",
        "  return sum(lista1)\n",
        "  return sum(lista2)\n",
        "  return sum(lista3)\n",
        "max(max(sommalista(lista1), sommalista(lista2)), sommalista(lista3))\n"
      ],
      "execution_count": null,
      "outputs": [
        {
          "name": "stdout",
          "output_type": "stream",
          "text": [
            "inserire la lista1 1,2,3\n",
            "inserire la lista2 1,2\n",
            "inserire la lista3 1,4\n"
          ]
        },
        {
          "output_type": "execute_result",
          "data": {
            "text/plain": [
              "6"
            ]
          },
          "metadata": {},
          "execution_count": 38
        }
      ]
    },
    {
      "cell_type": "markdown",
      "metadata": {
        "id": "g8zM0YFTQdzu"
      },
      "source": [
        "4. scrivere una funzione chiamata controlla che dato un numero e due estremi restituisca True se il numero è compreso tra i due estremi, false altrimenti. Utilizzare poi la funzione per trovare il numero di elementi di una lista di numeri interi (inserita dall'utente) compresi tra due estremi (inseriti anch'essi dall'utente)\n"
      ]
    },
    {
      "cell_type": "code",
      "metadata": {
        "id": "Fr_Y3q7rQd3W",
        "colab": {
          "base_uri": "https://localhost:8080/"
        },
        "outputId": "2bc24cbc-4ec6-4db8-d428-21819d36caf7"
      },
      "source": [
        "b = int(input(\"num da controllare \"))\n",
        "n = int(input(\"1 estremo \"))\n",
        "m = int(input(\"2 estremo \"))\n",
        "def controlla(b,n,m):\n",
        "  c =True \n",
        "  e =False\n",
        "  if b in range(n,m):\n",
        "    return c\n",
        "  else:\n",
        "    return e\n",
        "controlla(b,n,m)\n",
        "\n"
      ],
      "execution_count": null,
      "outputs": [
        {
          "name": "stdout",
          "output_type": "stream",
          "text": [
            "num da controllare 5\n",
            "1 estremo 1\n",
            "2 estremo 10\n"
          ]
        },
        {
          "output_type": "execute_result",
          "data": {
            "text/plain": [
              "True"
            ]
          },
          "metadata": {},
          "execution_count": 50
        }
      ]
    },
    {
      "cell_type": "markdown",
      "metadata": {
        "id": "rxUB_3-xQd8t"
      },
      "source": [
        "5. utilizzare la funzione controlla creata precedentemente per scrivere un programma che, data una lista di numeri interi inserita  dall'utente, carichi in un'altra lista i numeri compresi tra due estremi inseriti anch'essi dall'utente."
      ]
    },
    {
      "cell_type": "code",
      "metadata": {
        "id": "isef31TMQeBP"
      },
      "source": [
        ""
      ],
      "execution_count": null,
      "outputs": []
    },
    {
      "cell_type": "markdown",
      "metadata": {
        "id": "aq-jFVuTQeF-"
      },
      "source": [
        "6. scrivere una funzione chiamata confrontaListe che date due liste restituisca True se le due liste sono uguali, False altrimenti. Utilizzare poi la funzione in un programma che dica se una lista di interi è palindroma, cioè se può essere letta indifferentemente da sinistra a destra e da destra a sinistra. Ad esempio la lista [1, 2, 3, 4, 3, 2, 1] è palindroma, la lista [1, 2, 3, 4, 3,1, 2] non lo è.\n"
      ]
    },
    {
      "cell_type": "code",
      "metadata": {
        "id": "wABCMtO8QeKY"
      },
      "source": [
        ""
      ],
      "execution_count": null,
      "outputs": []
    },
    {
      "cell_type": "markdown",
      "metadata": {
        "id": "AbfI69bMQuuO"
      },
      "source": [
        "7. scrivere una funzione chiamata celsiusToFahrenheit che data una temperatura in gradi Celsius restituisca il valore convertito in gradi Fahrenheit (per ulteriori info, google it). Scrivere poi un programma che data una lista di temperature in gradi Celsius,inserita dall'utente, converta tutte le temperature in gradi Fahrenheit.\n"
      ]
    },
    {
      "cell_type": "code",
      "metadata": {
        "id": "1E8Y8a_DQu3l",
        "colab": {
          "base_uri": "https://localhost:8080/"
        },
        "outputId": "90c79c57-a612-4155-aa77-32e1dd2af3e0"
      },
      "source": [
        "lista = input(\"Insert a value in Celsius: \").split(',')\n",
        "\n",
        "def celsius_to_fahrenheit(x):\n",
        "  return round(x * (1.8) + 32)\n",
        "\n",
        "print([celsius_to_fahrenheit(int(x)) for x in lista])\n"
      ],
      "execution_count": null,
      "outputs": [
        {
          "output_type": "stream",
          "name": "stdout",
          "text": [
            "Insert a value in Celsius: 23,246,547\n",
            "[73, 475, 1017]\n"
          ]
        }
      ]
    },
    {
      "cell_type": "markdown",
      "metadata": {
        "id": "en30pOzcQvF-"
      },
      "source": [
        "8. scrivere una funzione chiamata IMC che calcoli l'Indice di Massa Corporea a partire dal peso (in kg) e dall'altezza (in m). Utilizzare poi la funzione per scrivere un programma che date tre liste, contenente la prima una serie di nomi, la seconda una serie di pesi e la terza una serie di altezze, produca una quarta lista contenente i valori di IMC corrispondenti. Visualizzare poi i risultati nel seguente modo: \"<nome> pesa <peso kg, misura <altezza> m ed ha un IMC di <IMC>\" ( i valori nelle parentesi angolari vanno presi ovviamente dalle liste)"
      ]
    },
    {
      "cell_type": "code",
      "metadata": {
        "id": "L_LK0jiwQvNl"
      },
      "source": [
        ""
      ],
      "execution_count": null,
      "outputs": []
    },
    {
      "cell_type": "markdown",
      "metadata": {
        "id": "sfA0uosIQvUF"
      },
      "source": [
        "9: scrivere una lambda function per estrarre da una lista di numeri interi tutti i valori pari."
      ]
    },
    {
      "cell_type": "code",
      "metadata": {
        "id": "l3HZkGxwQvY2",
        "colab": {
          "base_uri": "https://localhost:8080/"
        },
        "outputId": "a173b66e-e83b-4c2f-a499-9ac3b59efc66"
      },
      "source": [
        "LNumeri1 = [1,2,3,4,5,6,7,8,9]\n",
        "risultato = lambda l: [n for n in l if n%2 == 0]\n",
        "print(risultato(LNumeri1))"
      ],
      "execution_count": null,
      "outputs": [
        {
          "output_type": "stream",
          "name": "stdout",
          "text": [
            "[2, 4, 6, 8]\n"
          ]
        }
      ]
    }
  ]
}