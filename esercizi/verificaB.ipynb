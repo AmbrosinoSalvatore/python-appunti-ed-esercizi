{
  "nbformat": 4,
  "nbformat_minor": 0,
  "metadata": {
    "colab": {
      "name": "ver b.ipynb",
      "provenance": [],
      "collapsed_sections": []
    },
    "kernelspec": {
      "name": "python3",
      "display_name": "Python 3"
    },
    "language_info": {
      "name": "python"
    }
  },
  "cells": [
    {
      "cell_type": "markdown",
      "metadata": {
        "id": "LhV13-BDRW0y"
      },
      "source": [
        "Scrivere un programma che permetta di convertire un peso da kg in libbre. L’utente inserisce il peso in kg e il programma calcola il peso corrispondente nell’altra unità di misura.\n"
      ]
    },
    {
      "cell_type": "markdown",
      "metadata": {
        "id": "tPMwHkH25JM9"
      },
      "source": [
        ""
      ]
    },
    {
      "cell_type": "code",
      "metadata": {
        "colab": {
          "base_uri": "https://localhost:8080/"
        },
        "id": "V2AfVPCX5Jzr",
        "outputId": "b7ea11b7-f45d-4245-82db-6d5bfb53ede2"
      },
      "source": [
        "N = int(input('Inserire N: '))\n",
        "\n",
        "for i in range(1,N):\n",
        "  if i%10 == 0:\n",
        "    print(i)\n"
      ],
      "execution_count": null,
      "outputs": [
        {
          "output_type": "stream",
          "name": "stdout",
          "text": [
            "Inserire N: 50\n",
            "10\n",
            "20\n",
            "30\n",
            "40\n"
          ]
        }
      ]
    },
    {
      "cell_type": "code",
      "metadata": {
        "colab": {
          "base_uri": "https://localhost:8080/"
        },
        "id": "vHUk0FY16Tp7",
        "outputId": "a00144d4-1e96-4ce9-8056-51d92b9c8f5d"
      },
      "source": [
        "n = int(input())\n",
        "lst = []\n",
        "for i in range(0,100):\n",
        "  if i%2 == 0:\n",
        "    if i < n:\n",
        "      lst.append(i)\n",
        "print(lst)"
      ],
      "execution_count": null,
      "outputs": [
        {
          "output_type": "stream",
          "name": "stdout",
          "text": [
            "8\n",
            "[0, 2, 4, 6]\n"
          ]
        }
      ]
    },
    {
      "cell_type": "code",
      "metadata": {
        "colab": {
          "base_uri": "https://localhost:8080/"
        },
        "id": "oypFBHx88NXc",
        "outputId": "637f09b7-8853-4e91-a99e-bd793b7fefb8"
      },
      "source": [
        "tutti = [int(elementi) for elementi in range(0,90) if elementi%2 != 0]\n",
        "print(tutti)\n",
        "bassi = []\n",
        "alti = []\n",
        "for i in tutti:\n",
        "  if i < 50:\n",
        "    bassi.append(i)\n",
        "  else:\n",
        "    alti.append(i)\n",
        "print(bassi)\n",
        "print(alti)\n"
      ],
      "execution_count": null,
      "outputs": [
        {
          "output_type": "stream",
          "name": "stdout",
          "text": [
            "[1, 3, 5, 7, 9, 11, 13, 15, 17, 19, 21, 23, 25, 27, 29, 31, 33, 35, 37, 39, 41, 43, 45, 47, 49, 51, 53, 55, 57, 59, 61, 63, 65, 67, 69, 71, 73, 75, 77, 79, 81, 83, 85, 87, 89]\n",
            "[1, 3, 5, 7, 9, 11, 13, 15, 17, 19, 21, 23, 25, 27, 29, 31, 33, 35, 37, 39, 41, 43, 45, 47, 49]\n",
            "[51, 53, 55, 57, 59, 61, 63, 65, 67, 69, 71, 73, 75, 77, 79, 81, 83, 85, 87, 89]\n"
          ]
        }
      ]
    },
    {
      "cell_type": "code",
      "metadata": {
        "id": "gtfQmTDHv8YT"
      },
      "source": [
        "import math\n",
        "def volume_sfera(x):\n",
        "  return 4/3 *math.pi*x**3\n",
        "\n",
        "def pesosfera(r,d):\n",
        "  return volume_sfera(r) * d"
      ],
      "execution_count": null,
      "outputs": []
    },
    {
      "cell_type": "code",
      "metadata": {
        "colab": {
          "base_uri": "https://localhost:8080/"
        },
        "id": "5rrk0lYgGm-n",
        "outputId": "230c8623-a056-46ef-d0de-c04b1f2194ba"
      },
      "source": [
        "from random import randint\n",
        "\n",
        "n=20\n",
        "casuali=[]\n",
        "c=0\n",
        "\n",
        "for i in range(n):\n",
        "    numero=randint(230,280)\n",
        "    casuali.append(numero)\n",
        "\n",
        "for i in range(n):\n",
        "    print(casuali[i],end=' , ')\n",
        "\n",
        "print()\n",
        "print('Lista modificata')"
      ],
      "execution_count": null,
      "outputs": [
        {
          "output_type": "stream",
          "name": "stdout",
          "text": [
            "257 , 247 , 233 , 246 , 248 , 256 , 266 , 250 , 242 , 252 , 264 , 244 , 250 , 251 , 272 , 255 , 270 , 232 , 243 , 241 , \n",
            "Lista modificata\n"
          ]
        }
      ]
    },
    {
      "cell_type": "code",
      "metadata": {
        "colab": {
          "base_uri": "https://localhost:8080/",
          "height": 180
        },
        "id": "W9gAfF35Ki8X",
        "outputId": "108ac049-c03c-4548-a081-8aea00195122"
      },
      "source": [
        "from random import random\n",
        "random.randint(1, 100)\n"
      ],
      "execution_count": null,
      "outputs": [
        {
          "output_type": "error",
          "ename": "AttributeError",
          "evalue": "ignored",
          "traceback": [
            "\u001b[0;31m---------------------------------------------------------------------------\u001b[0m",
            "\u001b[0;31mAttributeError\u001b[0m                            Traceback (most recent call last)",
            "\u001b[0;32m<ipython-input-28-63550432531e>\u001b[0m in \u001b[0;36m<module>\u001b[0;34m()\u001b[0m\n\u001b[1;32m      1\u001b[0m \u001b[0;32mfrom\u001b[0m \u001b[0mrandom\u001b[0m \u001b[0;32mimport\u001b[0m \u001b[0mrandom\u001b[0m\u001b[0;34m\u001b[0m\u001b[0;34m\u001b[0m\u001b[0m\n\u001b[0;32m----> 2\u001b[0;31m \u001b[0mrandom\u001b[0m\u001b[0;34m.\u001b[0m\u001b[0mrandint\u001b[0m\u001b[0;34m(\u001b[0m\u001b[0;36m1\u001b[0m\u001b[0;34m,\u001b[0m \u001b[0;36m100\u001b[0m\u001b[0;34m)\u001b[0m\u001b[0;34m\u001b[0m\u001b[0;34m\u001b[0m\u001b[0m\n\u001b[0m",
            "\u001b[0;31mAttributeError\u001b[0m: 'builtin_function_or_method' object has no attribute 'randint'"
          ]
        }
      ]
    },
    {
      "cell_type": "code",
      "metadata": {
        "id": "4c-RvWRDMIyI",
        "colab": {
          "base_uri": "https://localhost:8080/",
          "height": 129
        },
        "outputId": "7e3b7359-b30b-4cdb-a513-74e9e4e6b670"
      },
      "source": [
        "import random\n",
        "import timeit\n",
        "\n",
        "# Random lists from [0-999] interval\n",
        "print [random.randint(0, 1000) for r in xrange(10)] # v1\n",
        "print [random.choice([i for i in xrange(1000)]) for r in xrange(10)] # v2\n",
        "\n",
        "# Measurement:\n",
        "t1 = timeit.Timer('[random.randint(0, 1000) for r in xrange(10000)]', 'import random') # v1\n",
        "t2 = timeit.Timer('random.sample(range(1000), 10000)', 'import random') # v2\n",
        "\n",
        "print t1.timeit(1000)/1000\n",
        "print t2.timeit(1000)/1000"
      ],
      "execution_count": null,
      "outputs": [
        {
          "output_type": "error",
          "ename": "SyntaxError",
          "evalue": "ignored",
          "traceback": [
            "\u001b[0;36m  File \u001b[0;32m\"<ipython-input-29-ec66f5efef3d>\"\u001b[0;36m, line \u001b[0;32m5\u001b[0m\n\u001b[0;31m    print [random.randint(0, 1000) for r in xrange(10)] # v1\u001b[0m\n\u001b[0m                                     ^\u001b[0m\n\u001b[0;31mSyntaxError\u001b[0m\u001b[0;31m:\u001b[0m invalid syntax\n"
          ]
        }
      ]
    },
    {
      "cell_type": "code",
      "metadata": {
        "colab": {
          "base_uri": "https://localhost:8080/"
        },
        "id": "dLSl5urRAcxF",
        "outputId": "76a41a7d-9158-4273-ac4e-84fe0e28c80c"
      },
      "source": [
        "\n",
        "\n",
        "a = float(input(\"Inserisci il coefficiente a: \"))\n",
        "b = float(input(\"Inserisci il coefficiente b: \"))\n",
        "c = float(input(\"Inserisci il coefficiente c: \"))\n",
        "\n",
        "\n",
        "delta = b**2 - 4 * a * c\n",
        "x1 = (-b - (delta)) / (2 * a)\n",
        "x2 = (-b + (delta)) / (2 * a)\n",
        "print(\"Delta positivo. Due soluzioni reali x1=\", x1, \" x2=\", x2)"
      ],
      "execution_count": null,
      "outputs": [
        {
          "output_type": "stream",
          "name": "stdout",
          "text": [
            "Inserisci il coefficiente a: 10\n",
            "Inserisci il coefficiente b: 2\n",
            "Inserisci il coefficiente c: 5\n",
            "Delta positivo. Due soluzioni reali x1= 9.7  x2= -9.9\n"
          ]
        }
      ]
    },
    {
      "cell_type": "code",
      "metadata": {
        "colab": {
          "base_uri": "https://localhost:8080/"
        },
        "id": "YNfgDURmRW_S",
        "outputId": "b9c829df-36ae-409c-a60e-8d292d8d7e80"
      },
      "source": [
        "kg = int(input())\n",
        "def kg_to_libbre(x):\n",
        "  return x*2.20\n",
        "kg_to_libbre(kg)\n"
      ],
      "execution_count": null,
      "outputs": [
        {
          "name": "stdout",
          "output_type": "stream",
          "text": [
            "19\n"
          ]
        },
        {
          "output_type": "execute_result",
          "data": {
            "text/plain": [
              "41.800000000000004"
            ]
          },
          "metadata": {},
          "execution_count": 4
        }
      ]
    },
    {
      "cell_type": "markdown",
      "metadata": {
        "id": "_eiTtN-lRftw"
      },
      "source": [
        "Scrivere un programma che permetta di verificare se un indirizzo mail contiene il carattere @. L’utente inserisce l’indirizzo e il programma restituisce il messaggio “indirizzo corretto” se il carattere è presente” o “indirizzo errato” se il carattere non è presente. Il carattere @ non può essere presente in prima o ultima posizione.\n"
      ]
    },
    {
      "cell_type": "code",
      "metadata": {
        "colab": {
          "base_uri": "https://localhost:8080/"
        },
        "id": "JeYsO3nnRf4g",
        "outputId": "a0f43284-14a9-4793-ef57-db96ab80be47"
      },
      "source": [
        "email = input()\n",
        "if '@' in email:\n",
        "  if email[0] != email[-1] != '@':\n",
        "     print('correct')\n",
        "  else:\n",
        "    print('error')\n",
        "\n",
        "   \n"
      ],
      "execution_count": null,
      "outputs": [
        {
          "output_type": "stream",
          "name": "stdout",
          "text": [
            "asasasas@fejfjfe\n",
            "correct\n"
          ]
        }
      ]
    },
    {
      "cell_type": "markdown",
      "metadata": {
        "id": "16aCsrjpRgA5"
      },
      "source": [
        "Scrivere un programma che visualizzi l’inverso dei primi n numeri interi con n inserito dall’utente. Per esempio, se l’utente inserisse il valore 4 il programma dovrebbe visualizzare i valori 1 (1:1), 0,5 (1:2), 0,33333 (1:3) e 0.25 (1:4). Separare i valori visualizzati con una virgola.\n"
      ]
    },
    {
      "cell_type": "code",
      "metadata": {
        "colab": {
          "base_uri": "https://localhost:8080/"
        },
        "id": "UT-E79ItRgH5",
        "outputId": "50e8cb2c-65c5-4bb0-cdfe-37ec7c3c3c64"
      },
      "source": [
        "n = int(input())\n",
        "for i in range(1,n+1):\n",
        "  print(1/i)"
      ],
      "execution_count": null,
      "outputs": [
        {
          "output_type": "stream",
          "name": "stdout",
          "text": [
            "4\n",
            "1.0\n",
            "0.5\n",
            "0.3333333333333333\n",
            "0.25\n"
          ]
        }
      ]
    },
    {
      "cell_type": "markdown",
      "metadata": {
        "id": "0JhQsosvRgPJ"
      },
      "source": [
        "scrivere un programma che carichi in una lista i primi 100 numeri interi dispari. Al termine visualizzare gli ultimi 10 numeri della lista.\n"
      ]
    },
    {
      "cell_type": "code",
      "metadata": {
        "colab": {
          "base_uri": "https://localhost:8080/"
        },
        "id": "3YrFG_eTRgVo",
        "outputId": "5c432f66-906b-4366-adbc-4f1833d9d482"
      },
      "source": [
        "lst = [int(elementi) for elementi in range(0,200)]\n",
        "lf = list(filter(lambda x:x%2 != 0,lst))\n",
        "print(lf[-10:])\n",
        "    \n"
      ],
      "execution_count": null,
      "outputs": [
        {
          "output_type": "stream",
          "name": "stdout",
          "text": [
            "[181, 183, 185, 187, 189, 191, 193, 195, 197, 199]\n"
          ]
        }
      ]
    },
    {
      "cell_type": "markdown",
      "metadata": {
        "id": "6L2qZmWHRgbZ"
      },
      "source": [
        "scrivere un programma che elimini dalla lista precedente gli ultimi 10 elementi. Visualizzare al termine la lista modificata."
      ]
    },
    {
      "cell_type": "code",
      "metadata": {
        "id": "l94hn3vxRghp",
        "colab": {
          "base_uri": "https://localhost:8080/"
        },
        "outputId": "40600987-d9ff-4aed-8bc7-80bd1cb31bbc"
      },
      "source": [
        "del(lf[-10:])\n",
        "print(lf)\n"
      ],
      "execution_count": null,
      "outputs": [
        {
          "output_type": "stream",
          "name": "stdout",
          "text": [
            "[1, 3, 5, 7, 9, 11, 13, 15, 17, 19, 21, 23, 25, 27, 29, 31, 33, 35, 37, 39, 41, 43, 45, 47, 49, 51, 53, 55, 57, 59, 61, 63, 65, 67, 69, 71, 73, 75, 77, 79, 81, 83, 85, 87, 89, 91, 93, 95, 97, 99, 101, 103, 105, 107, 109, 111, 113, 115, 117, 119, 121, 123, 125, 127, 129, 131, 133, 135, 137, 139, 141, 143, 145, 147, 149, 151, 153, 155, 157, 159, 161, 163, 165, 167, 169, 171, 173, 175, 177]\n"
          ]
        }
      ]
    },
    {
      "cell_type": "markdown",
      "metadata": {
        "id": "_fpTBswcRgoo"
      },
      "source": [
        "scrivere una funzione che data una lista formata da un numero pari di elementi restituisca la lista con gli elementi scambiati a due a due. Ad esempio se la lista di partenza fosse [1, 2, 3, 4, 5, 6] la lista da restituire sarebbe [2, 1, 4, 3, 6, 5]\n"
      ]
    },
    {
      "cell_type": "code",
      "metadata": {
        "id": "GY3AO5yhRgtz",
        "colab": {
          "base_uri": "https://localhost:8080/"
        },
        "outputId": "a45673b6-65e0-48e9-9703-6a320cecf287"
      },
      "source": [
        "lst = [i for i in input().split() ]\n",
        "\n",
        "def scambia(l):\n",
        "  for i in range(0,len(l),2):\n",
        "    x = l[i]\n",
        "    l[i] = l[i+1]\n",
        "    l[i+1] = x\n",
        "  return l\n",
        "\n",
        "scambia(lst)\n",
        "\n",
        "\n",
        "\n",
        "\n"
      ],
      "execution_count": null,
      "outputs": [
        {
          "name": "stdout",
          "output_type": "stream",
          "text": [
            "1 2 5 7 8 9\n"
          ]
        },
        {
          "output_type": "execute_result",
          "data": {
            "text/plain": [
              "['2', '1', '7', '5', '9', '8']"
            ]
          },
          "metadata": {},
          "execution_count": 37
        }
      ]
    },
    {
      "cell_type": "markdown",
      "metadata": {
        "id": "Vp_Yem0dRgzS"
      },
      "source": [
        "scrivere un programma che permetta di caricare in una struttura dati opportuna i nomi delle regioni italiane, i loro capoluoghi e la popolazione (inserire solo tre regioni). Visualizzare poi i dati di una regione inserita dall’utente"
      ]
    },
    {
      "cell_type": "code",
      "metadata": {
        "id": "6fJ1NjhHRg4f",
        "colab": {
          "base_uri": "https://localhost:8080/"
        },
        "outputId": "342fb0d6-d220-40c5-b2eb-12757e63e6ed"
      },
      "source": [
        "ritaliane = [{'nome': 'liguria','capoluogo':'genova','popolazione': 60},\n",
        "           {'nome': 'lazio','capoluogo':'roma','popolazione': 58},\n",
        "           {'nome': 'lombardia','capoluogo':'milano','popolazione': 80}]\n",
        "regioni = input()\n",
        "for regione in ritaliane:\n",
        "  if regione['nome'] == regioni:\n",
        "    print(regione['capoluogo'],regione['popolazione'])"
      ],
      "execution_count": null,
      "outputs": [
        {
          "output_type": "stream",
          "name": "stdout",
          "text": [
            "liguria\n",
            "genova 60\n"
          ]
        }
      ]
    },
    {
      "cell_type": "markdown",
      "metadata": {
        "id": "dZdpZ_n4Rg-A"
      },
      "source": [
        "scrivere un programma che, utilizzando una lambda function e la funzione filter, elimini da una lista inserita dall’utente tutti gli elementi dispari. Al termine, visualizzare la lista modificata"
      ]
    },
    {
      "cell_type": "code",
      "metadata": {
        "id": "vctZG1NZRhCJ",
        "colab": {
          "base_uri": "https://localhost:8080/"
        },
        "outputId": "4ff4f83a-6ba0-4a49-e22c-137c09deee5c"
      },
      "source": [
        "lst = [int(elementi) for elementi in input(\"ins num \").split()]\n",
        "lt = list(filter(lambda x:x%2 != 0,lst))\n",
        "print(lt)"
      ],
      "execution_count": null,
      "outputs": [
        {
          "output_type": "stream",
          "name": "stdout",
          "text": [
            "ins num 1 3 4 5\n",
            "[1, 3, 5]\n"
          ]
        }
      ]
    },
    {
      "cell_type": "markdown",
      "metadata": {
        "id": "DYbYho4Zkac7"
      },
      "source": [
        "scrivere una funzione che, in modo ricorsivo, calcoli la somma dei primi n numeri interi, con n inserito dall’utente. Ad esempio se l’utente inserisse 5 il programma dovrebbe restituire il valore 15 (5+4+3+2+1=15)"
      ]
    },
    {
      "cell_type": "code",
      "metadata": {
        "colab": {
          "base_uri": "https://localhost:8080/"
        },
        "id": "iqwpovfIkauL",
        "outputId": "e8253cef-d7a3-4867-c04e-904c406fefbf"
      },
      "source": [
        "def prod2(f1):\n",
        "  if f1 == 1:\n",
        "    return 1\n",
        "  else:\n",
        "    return f1+prod2(f1-1)\n",
        "n = int(input())\n",
        "prod2(n)\n"
      ],
      "execution_count": null,
      "outputs": [
        {
          "name": "stdout",
          "output_type": "stream",
          "text": [
            "5\n"
          ]
        },
        {
          "output_type": "execute_result",
          "data": {
            "text/plain": [
              "15"
            ]
          },
          "metadata": {},
          "execution_count": 35
        }
      ]
    }
  ]
}