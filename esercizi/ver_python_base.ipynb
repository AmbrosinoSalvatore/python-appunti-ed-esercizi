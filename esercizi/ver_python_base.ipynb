{
  "nbformat": 4,
  "nbformat_minor": 0,
  "metadata": {
    "colab": {
      "name": "ver python base",
      "provenance": [],
      "collapsed_sections": []
    },
    "kernelspec": {
      "name": "python3",
      "display_name": "Python 3"
    },
    "language_info": {
      "name": "python"
    }
  },
  "cells": [
    {
      "cell_type": "markdown",
      "metadata": {
        "id": "CIaiT4alxEsG"
      },
      "source": [
        "VERIFICA A"
      ]
    },
    {
      "cell_type": "markdown",
      "metadata": {
        "id": "kY5Eco-ijOZw"
      },
      "source": [
        "scrivere un programma che calcoli il volume di un parallelepipedo data la base, l’altezza e la profondità. I valori inseriti possono essere decimali e il risultato deve essere fornito con due cifre decimali. I valori della base, dell’altezza e della profondità devono essere inseriti dall’utente\n"
      ]
    },
    {
      "cell_type": "code",
      "metadata": {
        "colab": {
          "base_uri": "https://localhost:8080/"
        },
        "id": "eyJTuGoWjLs_",
        "outputId": "6a7839b1-802e-4122-e5e8-b84c48b0c34e"
      },
      "source": [
        "base = float(input())\n",
        "altezza = float(input())\n",
        "profondità = float(input())\n",
        "volume = base*altezza*profondità\n",
        "print(round(volume,2))"
      ],
      "execution_count": null,
      "outputs": [
        {
          "output_type": "stream",
          "name": "stdout",
          "text": [
            "8\n",
            "7\n",
            "6\n",
            "336.0\n"
          ]
        }
      ]
    },
    {
      "cell_type": "markdown",
      "metadata": {
        "id": "0vM6xUU2jP0Y"
      },
      "source": [
        "modificare il programma precedente in modo che prima di effettuare il calcolo controlli che i valori inseriti dall’utente siano positivi. Visualizzare gli opportuni messaggi di errore a seconda del verificarsi delle diverse condizioni\n"
      ]
    },
    {
      "cell_type": "code",
      "metadata": {
        "colab": {
          "base_uri": "https://localhost:8080/"
        },
        "id": "UYMpFOiBjQAw",
        "outputId": "7f4fbafc-48b1-4c5e-c708-ed77e3f43bf0"
      },
      "source": [
        "profondità = float(input())\n",
        "if base<0:\n",
        "  print('minore di 0')\n",
        "else:\n",
        "  altezza = float(input())\n",
        "  if altezza<0:\n",
        "   print('minore di 0')\n",
        "  else: \n",
        "   altezza = float(input())\n",
        "   if profondità<0:\n",
        "     print('minore di 0')\n",
        "   else:\n",
        "       volume = base*altezza*profondità\n",
        "       print(round(volume,2))"
      ],
      "execution_count": null,
      "outputs": [
        {
          "output_type": "stream",
          "name": "stdout",
          "text": [
            "-13\n",
            "-13\n",
            "minore di 0\n"
          ]
        }
      ]
    },
    {
      "cell_type": "markdown",
      "metadata": {
        "id": "_nvPZR0UjQIR"
      },
      "source": [
        "scrivere un programma che permetta di visualizzare tutti i quadrati perfetti minori di un numero intero inserito dall’utente. I quadrati perfetti sono numeri interi che possono essere espressi come il quadrato di un numero intero. Ad esempio 9 è un quadrato perfetto perché è il quadrato del numero intero 3 mentre 8 non è un quadrato perfetto perché non è il quadrato di nessun numero intero)\n"
      ]
    },
    {
      "cell_type": "code",
      "metadata": {
        "id": "kpaS9V61jQMw"
      },
      "source": [
        "n = int(input())\n",
        "quadratiperfetti = []\n",
        "\n",
        "i = 1\n",
        "while i**2 < n:\n",
        "  print(i**2)\n",
        "  i +=1"
      ],
      "execution_count": null,
      "outputs": []
    },
    {
      "cell_type": "markdown",
      "metadata": {
        "id": "SbcaI-VMjQQ6"
      },
      "source": [
        "scrivere un programma che inserisca in una lista tutti i numeri interi compresi tra due estremi forniti dall’utente. Al termine, visualizzare la lista dei numeri e la lista al contrario\n"
      ]
    },
    {
      "cell_type": "code",
      "metadata": {
        "id": "LmEWLrBfjQV1"
      },
      "source": [
        "val1 = int(input())\n",
        "val2 = int(input())\n",
        "liista = [elemento for elemento in range(val1,val2+1)]\n",
        "print(sorted(liista,reverse = True))"
      ],
      "execution_count": null,
      "outputs": []
    },
    {
      "cell_type": "markdown",
      "metadata": {
        "id": "q5VYAwZyjQZ5"
      },
      "source": [
        "scrivere una funzione chiamata volumeSfera che dato il raggio in metri di una sfera calcoli il suo volume. Utilizzare poi quella funzione per scrivere un’altra funzione chiamata pesoSfera che permetta di calcolare il peso di una sfera dato il suo raggio in metri e la sua densità, espressa in grammi al centimetro cubo. Infine, scrivere un programma che calcoli il peso di una sfera di piombo del raggio di un metro (la densità del piombo è di 11.34 g/cm3)\n"
      ]
    },
    {
      "cell_type": "code",
      "metadata": {
        "id": "he2sCRDVjQeD"
      },
      "source": [
        "import math\n",
        "def volume_sfera(x):\n",
        "  return 4/3 *math.pi*x**3\n",
        "\n",
        "def pesosfera(r,d):\n",
        "  return volume_sfera(r) * d"
      ],
      "execution_count": null,
      "outputs": []
    },
    {
      "cell_type": "markdown",
      "metadata": {
        "id": "xl3m7iBtjQ2a"
      },
      "source": [
        "data una lista di 100 numeri pari casuali caricata tramite una list comprehension, sostituire ogni elemento con il suo quadrato \n"
      ]
    },
    {
      "cell_type": "code",
      "metadata": {
        "id": "n6_zMbUkjRAq"
      },
      "source": [
        ""
      ],
      "execution_count": null,
      "outputs": []
    },
    {
      "cell_type": "markdown",
      "metadata": {
        "id": "jHYcLwzwjRHG"
      },
      "source": [
        "data una lista di 100 numeri pari casuali caricata tramite una list comprehension, eliminare tutti gli elementi della lista che sono multipli di 6\n",
        "testo in corsivo"
      ]
    },
    {
      "cell_type": "code",
      "metadata": {
        "id": "1YD_2lGdjRMT"
      },
      "source": [
        ""
      ],
      "execution_count": null,
      "outputs": []
    },
    {
      "cell_type": "markdown",
      "metadata": {
        "id": "DMAsrxfajRRd"
      },
      "source": [
        "progettare una struttura dati che permetta di memorizzare l’orario di partenza e di arrivo dei treni della tratta Milano Roma dell’alta velocità. Ad esempio il treno 9645 parte alle 16.00 e arriva alle 19.10, il treno 9647 parte alle 16.30 e arriva alle 19.40 a Roma. Memorizzare nella struttura dati progettata queste informazioni e scrivere il codice necessario per cercare un treno ed avere l’ora di partenza e l’ora di arrivo. Se non c’è il treno che l’utente inserisce, dare un opportuno messaggio di errore.\n",
        "\n"
      ]
    },
    {
      "cell_type": "code",
      "metadata": {
        "colab": {
          "base_uri": "https://localhost:8080/"
        },
        "id": "AMU5jNoSjRrF",
        "outputId": "f8760dd4-5049-411c-9012-9e6e0e225a82"
      },
      "source": [
        "milanoroma = [{'num':'9645','partenza':'16.00','arrivo':'19.10'},\n",
        "               {'num':'9647','partenza':'16.30','arrivo':'19.40'}]\n",
        "infotreno = input()\n",
        "for treno in milanoroma:\n",
        "  if treno['num'] == infotreno:\n",
        "    print(treno['partenza'],treno['arrivo'])\n",
        "  else:\n",
        "    print('ERRORE')"
      ],
      "execution_count": null,
      "outputs": [
        {
          "output_type": "stream",
          "name": "stdout",
          "text": [
            "1212\n",
            "ERRORE\n",
            "ERRORE\n"
          ]
        }
      ]
    },
    {
      "cell_type": "markdown",
      "metadata": {
        "id": "_Gb8oZgbxArx"
      },
      "source": [
        "VERIFICA B"
      ]
    },
    {
      "cell_type": "markdown",
      "metadata": {
        "id": "hHmKwdKgn1mN"
      },
      "source": [
        "scrivere un programma che calcoli le radici (dette anche zeri) di una equazione di secondo grado. L’utente inserisce i valori dei coefficienti  a. b e c e il programma calcola gli zeri.\n"
      ]
    },
    {
      "cell_type": "code",
      "metadata": {
        "colab": {
          "base_uri": "https://localhost:8080/"
        },
        "id": "8cAcspJfn12n",
        "outputId": "23838cc7-1e5f-4d8f-cdff-7ae0c5f08dd6"
      },
      "source": [
        "a = float(input(\"Inserisci il coefficiente a: \"))\n",
        "b = float(input(\"Inserisci il coefficiente b: \"))\n",
        "c = float(input(\"Inserisci il coefficiente c: \"))\n",
        "\n",
        "\n",
        "delta = b**2 - 4 * a * c\n",
        "x1 = (-b - (delta)) / (2 * a)\n",
        "x2 = (-b + (delta)) / (2 * a)\n",
        "print( x1=\", x1, \" x2=\", x2\")"
      ],
      "execution_count": null,
      "outputs": [
        {
          "output_type": "stream",
          "name": "stdout",
          "text": [
            "Inserisci il coefficiente a: 10\n",
            "Inserisci il coefficiente b: 2\n",
            "Inserisci il coefficiente c: 5\n",
            "Delta positivo. Due soluzioni reali x1= 9.7  x2= -9.9\n"
          ]
        }
      ]
    },
    {
      "cell_type": "markdown",
      "metadata": {
        "id": "ZFJRGE8Xn18A"
      },
      "source": [
        "modificare il programma precedente in modo che prima di effettuare il calcolo controlli che i valori inseriti dall’utente siano accettabili. Visualizzare gli opportuni messaggi di errore a seconda del verificarsi delle diverse condizioni\n"
      ]
    },
    {
      "cell_type": "code",
      "metadata": {
        "colab": {
          "base_uri": "https://localhost:8080/"
        },
        "id": "8jsNM8V9n1_r",
        "outputId": "d656fef0-c91c-401e-be68-aeceb498e626"
      },
      "source": [
        "a = 0\n",
        "while a == 0:\n",
        "    a = float(input(\"Inserisci il coefficiente a: \"))\n",
        "b = float(input(\"Inserisci il coefficiente b: \"))\n",
        "c = float(input(\"Inserisci il coefficiente c: \"))\n",
        "\n",
        "\n",
        "delta = b**2 - 4 * a * c\n",
        "\n",
        "\n",
        "if delta < 0:\n",
        "    print(\"Delta negativo. Nessuna soluzione reale (impossibile).\")\n",
        "elif delta == 0:\n",
        "    x = (-b) / (2 * a)\n",
        "    print(\" x=\", x)\n",
        "else:\n",
        "    x1 = (-b - sqrt(delta)) / (2 * a)\n",
        "    x2 = (-b + sqrt(delta)) / (2 * a)\n",
        "    print( \"x1=\", x1, \" x2=\", x2)"
      ],
      "execution_count": null,
      "outputs": [
        {
          "output_type": "stream",
          "name": "stdout",
          "text": [
            "Inserisci il coefficiente a: 10\n",
            "Inserisci il coefficiente b: 2\n",
            "Inserisci il coefficiente c: 5\n",
            "Delta negativo. Nessuna soluzione reale (impossibile).\n"
          ]
        }
      ]
    },
    {
      "cell_type": "markdown",
      "metadata": {
        "id": "Z70XvAHsn2Ec"
      },
      "source": [
        "scrivere un programma che permetta di visualizzare tutti i multipli di 10 minori di un numero inserito dall’utente.\n"
      ]
    },
    {
      "cell_type": "code",
      "metadata": {
        "id": "QOcOQpSvn2Im"
      },
      "source": [
        "N = int(input('Inserire N: '))\n",
        "\n",
        "for i in range(1,N):\n",
        "  if i%10 == 0:\n",
        "    print(i)"
      ],
      "execution_count": null,
      "outputs": []
    },
    {
      "cell_type": "markdown",
      "metadata": {
        "id": "NiVFw3esn2NE"
      },
      "source": [
        "scrivere un programma che inserisca in una lista tutti i numeri interi pari minori di un numero inserito dall’utente. Al termine, visualizzare la lista dei numeri e la lista al contrario\n"
      ]
    },
    {
      "cell_type": "code",
      "metadata": {
        "colab": {
          "base_uri": "https://localhost:8080/"
        },
        "id": "whVBwOFln2Ss",
        "outputId": "4863ac8c-8f55-4794-ffc0-a40b8e8f86bd"
      },
      "source": [
        "n = int(input())\n",
        "l = [int(elementi) for elementi in range(0,n+1)]\n",
        "print(sorted(l,reverse=True))"
      ],
      "execution_count": null,
      "outputs": [
        {
          "output_type": "stream",
          "name": "stdout",
          "text": [
            "5\n",
            "[5, 4, 3, 2, 1, 0]\n"
          ]
        }
      ]
    },
    {
      "cell_type": "markdown",
      "metadata": {
        "id": "T5y-ThA5n2Xl"
      },
      "source": [
        "scrivere un programma che carichi in una lista chiamata “tutti” i numeri dispari compresi tra 0 e 90. Usando poi lo slicing, caricare in una lista chiamata “bassi” gli elementi della prima metà della lista “tutti” e in una lista chiamata “alti” gli elementi della seconda metà della  lista. Al termine visualizzare le tre liste..\n"
      ]
    },
    {
      "cell_type": "code",
      "metadata": {
        "colab": {
          "base_uri": "https://localhost:8080/"
        },
        "id": "tH6lCsWMn2i7",
        "outputId": "a26f724d-47e5-4804-8b18-e0f9eca12e74"
      },
      "source": [
        "tutti = [int(elementi) for elementi in range(0,90) if elementi%2 != 0]\n",
        "print(tutti)\n",
        "bassi = []\n",
        "alti = []\n",
        "for i in tutti:\n",
        "  if i < 50:\n",
        "    bassi.append(i)\n",
        "  else:\n",
        "    alti.append(i)\n",
        "print(\"bassi= \",bassi)\n",
        "print('alti=',alti)"
      ],
      "execution_count": null,
      "outputs": [
        {
          "output_type": "stream",
          "name": "stdout",
          "text": [
            "[1, 3, 5, 7, 9, 11, 13, 15, 17, 19, 21, 23, 25, 27, 29, 31, 33, 35, 37, 39, 41, 43, 45, 47, 49, 51, 53, 55, 57, 59, 61, 63, 65, 67, 69, 71, 73, 75, 77, 79, 81, 83, 85, 87, 89]\n",
            "bassi=  [1, 3, 5, 7, 9, 11, 13, 15, 17, 19, 21, 23, 25, 27, 29, 31, 33, 35, 37, 39, 41, 43, 45, 47, 49]\n",
            "alti= [51, 53, 55, 57, 59, 61, 63, 65, 67, 69, 71, 73, 75, 77, 79, 81, 83, 85, 87, 89]\n"
          ]
        }
      ]
    },
    {
      "cell_type": "markdown",
      "metadata": {
        "id": "7fXd_g9Vn2pj"
      },
      "source": [
        "scrivere una funzione chiamata volumeCubo che dato il lato in metri di un cubo calcoli il suo volume. Utilizzare poi quella funzione per scrivere un’altra funzione chiamata pesoCubo che permetta di calcolare il peso in kg di un cubo dato il suo lato in metri e la sua densità, espressa in grammi al centimetro cubo. Infine, scrivere un programma che calcoli il peso di un cubo di alluminio avente il lato di un metro (la densità dell’alluminio è di 2.7 g/cm3)\n"
      ]
    },
    {
      "cell_type": "code",
      "metadata": {
        "id": "832DJMT3n2tp"
      },
      "source": [
        "\n",
        "def volumecubo(x):\n",
        "  return x**3\n",
        "\n",
        "def pesocubo(l,d):\n",
        "  return volumecubo(l) * d"
      ],
      "execution_count": null,
      "outputs": []
    },
    {
      "cell_type": "markdown",
      "metadata": {
        "id": "aqhdhkPGn2yi"
      },
      "source": [
        "data una lista di 100 numeri pari casuali caricata tramite una list comprehension, sostituire con uno zero tutti gli elementi della lista che sono multipli di 6\n"
      ]
    },
    {
      "cell_type": "code",
      "metadata": {
        "id": "gO41vJG0n22Q"
      },
      "source": [
        ""
      ],
      "execution_count": null,
      "outputs": []
    },
    {
      "cell_type": "markdown",
      "metadata": {
        "id": "1Xorsm7Cwq5M"
      },
      "source": [
        "data una lista di 100 numeri pari casuali caricata tramite una list comprehension, eliminare tutti gli elementi della lista minori di un valore intero inserito dall’utente\n"
      ]
    },
    {
      "cell_type": "code",
      "metadata": {
        "id": "uzXB5eojwqk4"
      },
      "source": [
        ""
      ],
      "execution_count": null,
      "outputs": []
    },
    {
      "cell_type": "markdown",
      "metadata": {
        "id": "oOgohvKhwuJk"
      },
      "source": [
        "progettare una struttura dati che permetta di memorizzare l’orario di partenza e di arrivo dei treni della tratta Milano Roma dell’alta velocità. Ad esempio il treno 9645 parte alle 16.00 e arriva alle 19.10, il treno 9647 parte alle 16.30 e arriva alle 19.40 a Roma. Memorizzare nella struttura dati progettata queste informazioni e scrivere il codice necessario per cercare un treno ed avere l’ora di partenza e l’ora di arrivo. Se non c’è il treno che l’utente inserisce, dare un opportuno messaggio di errore.\n"
      ]
    },
    {
      "cell_type": "code",
      "metadata": {
        "colab": {
          "base_uri": "https://localhost:8080/"
        },
        "id": "tzJi_NLJwuYh",
        "outputId": "395dd4bd-fedd-46e7-b4c6-37daac477e13"
      },
      "source": [
        "milanoroma = [{'num':'9645','partenza':'16.00','arrivo':'19.10'},\n",
        "               {'num':'9647','partenza':'16.30','arrivo':'19.40'}]\n",
        "infotreno = input()\n",
        "for treno in milanoroma:\n",
        "  if treno['num'] == infotreno:\n",
        "    print(treno['partenza'],treno['arrivo'])\n",
        "  else:\n",
        "    print('ERRORE')"
      ],
      "execution_count": null,
      "outputs": [
        {
          "output_type": "stream",
          "name": "stdout",
          "text": [
            "9647\n",
            "ERRORE\n",
            "16.30 19.40\n"
          ]
        }
      ]
    }
  ]
}