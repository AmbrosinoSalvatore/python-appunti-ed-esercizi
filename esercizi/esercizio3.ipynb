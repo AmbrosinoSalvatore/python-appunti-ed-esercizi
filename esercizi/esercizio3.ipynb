{
  "nbformat": 4,
  "nbformat_minor": 0,
  "metadata": {
    "colab": {
      "name": "Untitled1.ipynb",
      "provenance": []
    },
    "kernelspec": {
      "name": "python3",
      "display_name": "Python 3"
    },
    "language_info": {
      "name": "python"
    }
  },
  "cells": [
    {
      "cell_type": "markdown",
      "metadata": {
        "id": "0KaQjs8yw9V9"
      },
      "source": [
        "1. Scrivere un programma che crei un dizionario contenente i nomi delle regioni e i nomi dei loro\n",
        "capoluoghi. Il nome della regione deve essere il campo chiave. Chiamare il dizionario\n",
        "capoluoghiRegione"
      ]
    },
    {
      "cell_type": "code",
      "metadata": {
        "colab": {
          "base_uri": "https://localhost:8080/"
        },
        "id": "GOO3Knoikmin",
        "outputId": "a0ec3974-9417-409f-f1fd-7dfc6a0f4188"
      },
      "source": [
        "capoluoghiRegione = {'Abruzzo' : 'Aquila', 'Basilicata' : 'Potenza', 'Calabria' : 'Catanzaro', 'Campania' : 'Napoli ', 'Emilia-Romagna' : 'Bologna', 'Friuli Venezia Giulia' : 'Trieste','Lazio' : 'Roma','Liguria' : 'Genova', 'Lombardia' : 'Milano', 'Marche' : 'Ancona','Molise' : 'Campobasso','Piemonte' : 'Torino','Puglia' : 'Bari','Sardegna' : 'Cagliari','Sicilia' : 'Palermo','Toscana' : 'Firenze','Trentino-Alto Adige' : 'Trento','Umbria' : 'Perugia','Valle Aosta' : 'Aosta','Veneto' : 'Venezia'}\n",
        "print(capoluoghiRegione)"
      ],
      "execution_count": null,
      "outputs": [
        {
          "output_type": "stream",
          "name": "stdout",
          "text": [
            "{'Abruzzo': 'Aquila', 'Basilicata': 'Potenza', 'Calabria': 'Catanzaro', 'Campania': 'Napoli ', 'Emilia-Romagna': 'Bologna', 'Friuli Venezia Giulia': 'Trieste', 'Lazio': 'Roma', 'Liguria': 'Genova', 'Lombardia': 'Milano', 'Marche': 'Ancona', 'Molise': 'Campobasso', 'Piemonte': 'Torino', 'Puglia': 'Bari', 'Sardegna': 'Cagliari', 'Sicilia': 'Palermo', 'Toscana': 'Firenze', 'Trentino-Alto Adige': 'Trento', 'Umbria': 'Perugia', 'Valle Aosta': 'Aosta', 'Veneto': 'Venezia'}\n"
          ]
        }
      ]
    },
    {
      "cell_type": "markdown",
      "metadata": {
        "id": "fPDw3nGpw_ms"
      },
      "source": [
        "2. Scrivere un programma che visualizzi tutti i nomi delle regioni presenti in capoluoghiRegione"
      ]
    },
    {
      "cell_type": "code",
      "metadata": {
        "colab": {
          "base_uri": "https://localhost:8080/"
        },
        "id": "-ZGlb2mfw_wk",
        "outputId": "5872ea46-6b9b-47b5-ae83-35acd0ebb9ea"
      },
      "source": [
        "x = capoluoghiRegione.keys()\n",
        "print(x)"
      ],
      "execution_count": null,
      "outputs": [
        {
          "output_type": "stream",
          "name": "stdout",
          "text": [
            "dict_keys(['Abruzzo', 'Basilicata', 'Calabria', 'Campania', 'Emilia-Romagna', 'Friuli Venezia Giulia', 'Lazio', 'Liguria', 'Lombardia', 'Marche', 'Molise', 'Piemonte', 'Puglia', 'Sardegna', 'Sicilia', 'Toscana', 'Trentino-Alto Adige', 'Umbria', 'Valle Aosta', 'Veneto'])\n"
          ]
        }
      ]
    },
    {
      "cell_type": "markdown",
      "metadata": {
        "id": "y0kN9Geaw_7M"
      },
      "source": [
        "3. Scrivere un programma che visualizzi tutti i nomi dei capoluoghi di regione presenti in\n",
        "capoluoghiRegione"
      ]
    },
    {
      "cell_type": "code",
      "metadata": {
        "colab": {
          "base_uri": "https://localhost:8080/"
        },
        "id": "nRqSOhCIxAHl",
        "outputId": "55177a2b-02b7-4bf4-bf1d-7f73ffba0b33"
      },
      "source": [
        "y = capoluoghiRegione.values()\n",
        "print(y)"
      ],
      "execution_count": null,
      "outputs": [
        {
          "output_type": "stream",
          "name": "stdout",
          "text": [
            "dict_values(['Aquila', 'Potenza', 'Catanzaro', 'Napoli ', 'Bologna', 'Trieste', 'Roma', 'Genova', 'Milano', 'Ancona', 'Campobasso', 'Torino', 'Bari', 'Cagliari', 'Palermo', 'Firenze', 'Trento', 'Perugia', 'Aosta', 'Venezia'])\n"
          ]
        }
      ]
    },
    {
      "cell_type": "markdown",
      "metadata": {
        "id": "a20qEQjyxARL"
      },
      "source": [
        "4. Scrivere un programma che acquisisca dall’utente il nome di una regione e fornisca il nome del suo\n",
        "capoluogo."
      ]
    },
    {
      "cell_type": "code",
      "metadata": {
        "colab": {
          "base_uri": "https://localhost:8080/"
        },
        "id": "hjcIVISuxAZM",
        "outputId": "268ead56-bf29-49bc-bc09-b4c653455c63"
      },
      "source": [
        "Findcapoluoghi = (input(\"Inserire il nome della Regione:  \"))\n",
        "\n",
        "print(capoluoghiRegione[Findcapoluoghi])\n",
        "\n",
        "\n"
      ],
      "execution_count": null,
      "outputs": [
        {
          "output_type": "stream",
          "name": "stdout",
          "text": [
            "Inserire il nome della Regione:  Lombardia\n",
            "Milano\n"
          ]
        }
      ]
    },
    {
      "cell_type": "markdown",
      "metadata": {
        "id": "NMvpJobvxAgO"
      },
      "source": [
        "5. Scrivere un programma che acquisisca dall’utente il nome di un capoluogo e fornisca il nome della\n",
        "regione a cui appartiene."
      ]
    },
    {
      "cell_type": "code",
      "metadata": {
        "id": "Q5iWow_HxApc",
        "colab": {
          "base_uri": "https://localhost:8080/"
        },
        "outputId": "613f7604-1eff-4f5d-f50d-0dffe7e74c90"
      },
      "source": [
        "cap = list(capoluoghiRegione.values())\n",
        "reg = list(capoluoghiRegione.keys())\n",
        "trovaregione = input()\n",
        "print(reg[cap.index(trovaregione)])"
      ],
      "execution_count": null,
      "outputs": [
        {
          "output_type": "stream",
          "name": "stdout",
          "text": [
            "Potenza\n",
            "Basilicata\n"
          ]
        }
      ]
    },
    {
      "cell_type": "markdown",
      "metadata": {
        "id": "yFLzyH4fxAxE"
      },
      "source": [
        "6. Scrivere un programma che visualizzi tutte le regioni con i rispettivi capoluoghi"
      ]
    },
    {
      "cell_type": "code",
      "metadata": {
        "id": "EAIotOPnxA4E",
        "colab": {
          "base_uri": "https://localhost:8080/"
        },
        "outputId": "ebbcf74e-e96b-4f30-bdc0-37c545953b95"
      },
      "source": [
        "\n",
        "capoluoghiRegione_ =\t['Aquila','Potenza','Catanzaro','Napoli','Bologna','Trieste','Roma','Genova','Milano','Ancona','Campobasso','Torino','Bari','Cagliari','Palermo','Firenze','Trento','Perugia','Aosta','Venezia']\n",
        "regioni = ['Abruzzo','Basilicata','Calabria','Campania','Emilia-Romagna','Friuli-Venezia Giulia','Lazio','Liguria','Lombardia','Marche','Molise','Piemonte','Puglia','Sardegna','Sicilia','Toscana','Trentino-Alto Adige','Umbria','Valle d Aosta','Veneto']\n",
        "capuoluoghiregione = dict((regioni,capoluoghiRegione_) for regioni,capoluoghiRegione_ in zip(regioni,capoluoghiRegione_))\n",
        "print(capuoluoghiregione)"
      ],
      "execution_count": null,
      "outputs": [
        {
          "output_type": "stream",
          "name": "stdout",
          "text": [
            "{'Abruzzo': 'Aquila', 'Basilicata': 'Potenza', 'Calabria': 'Catanzaro', 'Campania': 'Napoli', 'Emilia-Romagna': 'Bologna', 'Friuli-Venezia Giulia': 'Trieste', 'Lazio': 'Roma', 'Liguria': 'Genova', 'Lombardia': 'Milano', 'Marche': 'Ancona', 'Molise': 'Campobasso', 'Piemonte': 'Torino', 'Puglia': 'Bari', 'Sardegna': 'Cagliari', 'Sicilia': 'Palermo', 'Toscana': 'Firenze', 'Trentino-Alto Adige': 'Trento', 'Umbria': 'Perugia', 'Valle d Aosta': 'Aosta', 'Veneto': 'Venezia'}\n"
          ]
        }
      ]
    },
    {
      "cell_type": "markdown",
      "metadata": {
        "id": "e-YaUCQslBtW"
      },
      "source": [
        "7. Scrivere un programma che visualizzi tutte le regioni con i rispettivi capoluoghi. Ordinare le regioni\n",
        "in ordine alfabetico"
      ]
    },
    {
      "cell_type": "code",
      "metadata": {
        "colab": {
          "base_uri": "https://localhost:8080/"
        },
        "id": "WCAHAuHblEo-",
        "outputId": "1d3bcf8b-1a83-415d-cb62-41b10d71ce4e"
      },
      "source": [
        "for reg in sorted(capoluoghiRegione ):\n",
        "    print(reg,capoluoghiRegione[reg])\n",
        "\n",
        "\n"
      ],
      "execution_count": null,
      "outputs": [
        {
          "output_type": "stream",
          "name": "stdout",
          "text": [
            "Abruzzo Aquila\n",
            "Basilicata Potenza\n",
            "Calabria Catanzaro\n",
            "Campania Napoli \n",
            "Emilia-Romagna Bologna\n",
            "Friuli Venezia Giulia Trieste\n",
            "Lazio Roma\n",
            "Liguria Genova\n",
            "Lombardia Milano\n",
            "Marche Ancona\n",
            "Molise Campobasso\n",
            "Piemonte Torino\n",
            "Puglia Bari\n",
            "Sardegna Cagliari\n",
            "Sicilia Palermo\n",
            "Toscana Firenze\n",
            "Trentino-Alto Adige Trento\n",
            "Umbria Perugia\n",
            "Valle Aosta Aosta\n",
            "Veneto Venezia\n"
          ]
        }
      ]
    },
    {
      "cell_type": "markdown",
      "metadata": {
        "id": "-fOgeClJuBvR"
      },
      "source": [
        "8. Scrivere un programma che visualizzi tutte le regioni con i rispettivi capoluoghi. Ordinare i\n",
        "capoluoghi in ordine alfabetico"
      ]
    },
    {
      "cell_type": "code",
      "metadata": {
        "colab": {
          "base_uri": "https://localhost:8080/"
        },
        "id": "PT3Q4XhLuB2w",
        "outputId": "bcb9751c-b631-498e-f9f8-f2648ef92f60"
      },
      "source": [
        "for reg in sorted(capoluoghiRegione, key=capoluoghiRegione.get):\n",
        "    print(capoluoghiRegione[reg],reg)"
      ],
      "execution_count": null,
      "outputs": [
        {
          "output_type": "stream",
          "name": "stdout",
          "text": [
            "Ancona Marche\n",
            "Aosta Valle Aosta\n",
            "Aquila Abruzzo\n",
            "Bari Puglia\n",
            "Bologna Emilia-Romagna\n",
            "Cagliari Sardegna\n",
            "Campobasso Molise\n",
            "Catanzaro Calabria\n",
            "Firenze Toscana\n",
            "Genova Liguria\n",
            "Milano Lombardia\n",
            "Napoli  Campania\n",
            "Palermo Sicilia\n",
            "Perugia Umbria\n",
            "Potenza Basilicata\n",
            "Roma Lazio\n",
            "Torino Piemonte\n",
            "Trento Trentino-Alto Adige\n",
            "Trieste Friuli Venezia Giulia\n",
            "Venezia Veneto\n"
          ]
        }
      ]
    }
  ]
}