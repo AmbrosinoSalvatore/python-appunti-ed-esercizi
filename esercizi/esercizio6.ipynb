{
  "nbformat": 4,
  "nbformat_minor": 0,
  "metadata": {
    "colab": {
      "name": "es 6",
      "provenance": [],
      "collapsed_sections": []
    },
    "kernelspec": {
      "name": "python3",
      "display_name": "Python 3"
    },
    "language_info": {
      "name": "python"
    }
  },
  "cells": [
    {
      "cell_type": "markdown",
      "metadata": {
        "id": "hzDrqu3g_YT4"
      },
      "source": [
        "1. scrivere una funzione chiamata sommaTutti che permetta di sommare un numero arbitrario di valori interi passati come parametri. Scrivere poi un programma che permetta all'utente di inserire un numero variabile di interi e visualizzi la somma."
      ]
    },
    {
      "cell_type": "code",
      "metadata": {
        "colab": {
          "base_uri": "https://localhost:8080/"
        },
        "id": "Z92JQP-i_Qmq",
        "outputId": "ee993b25-6a5b-4d9b-be98-8cb245b87288"
      },
      "source": [
        "def sommatutti(valore):\n",
        "  som = 0\n",
        "  for i in valore:\n",
        "    som += i\n",
        "  return som\n",
        "\n",
        "numeri = [int(elementi) for elementi in input(\"ins num \").split()]\n",
        "print(sommatutti(numeri))"
      ],
      "execution_count": null,
      "outputs": [
        {
          "output_type": "stream",
          "name": "stdout",
          "text": [
            "ins num 23 4\n",
            "27\n"
          ]
        }
      ]
    },
    {
      "cell_type": "markdown",
      "metadata": {
        "id": "mzphKPnL_aLF"
      },
      "source": [
        "2. scrivere una lambda function che calcoli la lunghezza della circonferenza di un cerchio dato il raggio. Utilizzarla poi in un programma che chieda all'utente il valore del raggio e visualizzi la lunghezza della circonferenza\n"
      ]
    },
    {
      "cell_type": "code",
      "metadata": {
        "colab": {
          "base_uri": "https://localhost:8080/"
        },
        "id": "UiFVonH-_aPo",
        "outputId": "d760b515-5434-4959-9cb1-a8cabe4f8bb2"
      },
      "source": [
        "circ = lambda x: x * (2 *3.14)\n",
        "circ(int(input(\"val raggio  \")))"
      ],
      "execution_count": null,
      "outputs": [
        {
          "name": "stdout",
          "output_type": "stream",
          "text": [
            "val raggio  2\n"
          ]
        },
        {
          "output_type": "execute_result",
          "data": {
            "text/plain": [
              "12.56"
            ]
          },
          "metadata": {},
          "execution_count": 1
        }
      ]
    },
    {
      "cell_type": "markdown",
      "metadata": {
        "id": "Dh9mzL-o_bjB"
      },
      "source": [
        "3. scrivere una funzione che calcoli il quadrato di un numero. Scrivere poi una funzione che calcoli la radice quadrata della somma di due numeri. Scrivere poi una lambda function che date le lunghezze di due cateti di un triangolo calcoli l'ipotenusa utilizzando le funzioni definite precedentemente. Utilizzare quest'ultima funzione in un programma che permetta all'utente di inserire le lunghezze dei cateti e di avere in risposta la lunghezza dell'ipotenusa di un triangolo rettangolo"
      ]
    },
    {
      "cell_type": "code",
      "metadata": {
        "id": "5uFjBaDH_bt3",
        "colab": {
          "base_uri": "https://localhost:8080/"
        },
        "outputId": "94d6730e-7dfb-469f-8e27-97366720fa7b"
      },
      "source": [
        "def quadrato(y):\n",
        "  return y**2\n",
        "\n",
        "def SumRadQuad(a,b):\n",
        "  sum = a + b\n",
        "  return sum**(1/2) \n",
        "\n",
        "cateto1 = int(input(\"Inserire una lunghezza\"))\n",
        "cateto2 = int(input(\"Inserire una lunghezza\"))\n",
        "\n",
        "\n",
        "\n",
        "Ipotenusa = lambda x,y : SumRadQuad(quadrato(x),quadrato(y))\n",
        "print(round(Ipotenusa(cateto1,cateto2)))"
      ],
      "execution_count": null,
      "outputs": [
        {
          "output_type": "stream",
          "name": "stdout",
          "text": [
            "Inserire una lunghezza5\n",
            "Inserire una lunghezza6\n",
            "8\n"
          ]
        }
      ]
    },
    {
      "cell_type": "markdown",
      "metadata": {
        "id": "Y35OPu42_b0b"
      },
      "source": [
        "4. Scrivere le funzioni quadrato, cubo e radiceQuadrata che calcolano il quadrato, il cubo e la radice quadrata di un numero intero. Scrivere poi un programma che, utilizzando un ciclo for, richiami le tre funzioni su un valore intero inserito dall'utente e visualizzi i tre risultati."
      ]
    },
    {
      "cell_type": "code",
      "metadata": {
        "colab": {
          "base_uri": "https://localhost:8080/"
        },
        "id": "qCuZPA_g_b5s",
        "outputId": "075cf8ef-7eab-4c67-9e0d-f48501a7ab67"
      },
      "source": [
        "def quadrato(y):\n",
        "  return y**2\n",
        "\n",
        "def cubo(b):\n",
        "  return b**3\n",
        "\n",
        "def rquadr(n):\n",
        "  return n**(1/2)\n",
        "\n",
        "num = int(input(\"ins num \"))\n",
        "\n",
        "print(quadrato(num))\n",
        "print(cubo(num))\n",
        "print(rquadr(num))"
      ],
      "execution_count": null,
      "outputs": [
        {
          "output_type": "stream",
          "name": "stdout",
          "text": [
            "ins num 3\n",
            "9\n",
            "27\n",
            "1.7320508075688772\n"
          ]
        }
      ]
    },
    {
      "cell_type": "markdown",
      "metadata": {
        "id": "zWS_wtNQ_cAo"
      },
      "source": [
        "5. Utilizzando una lambda function, scrivere un programma che data una lista di numeri interi inserita dall'utente carichi in altre due liste i quadrati e i cubi dei numeri presenti nella lista inserita. Al termine, visualizzare le due liste.\n",
        "\n"
      ]
    },
    {
      "cell_type": "code",
      "metadata": {
        "id": "DHFebbHQ_cGv",
        "colab": {
          "base_uri": "https://localhost:8080/"
        },
        "outputId": "0a555f75-25d3-4765-daac-f8b972f480ec"
      },
      "source": [
        "lista1 = list(input(\"inserire la lista1 \").split(','))\n",
        "lista1 = list([int(n) for n in lista1])\n",
        "\n",
        "NewList1 = list(map(lambda x: quadrato(x)  ,lista1))\n",
        "NewList2 = list(map(lambda y: cubo(y)  ,lista1))\n",
        "\n",
        "print(NewList1,NewList2)"
      ],
      "execution_count": null,
      "outputs": [
        {
          "output_type": "stream",
          "name": "stdout",
          "text": [
            "inserire la lista1 1,2\n",
            "[1, 4] [1, 8]\n"
          ]
        }
      ]
    },
    {
      "cell_type": "markdown",
      "metadata": {
        "id": "kW2hJNYD_cjn"
      },
      "source": [
        "6. Utilizzando una lambda function, scrivere un programma che data una lista di numeri interi inserita dall'utente carichi in altre due liste i numeri pari e i numeri dispari presenti nella lista inserita. Al termine, visualizzare le due liste.\n",
        "\n"
      ]
    },
    {
      "cell_type": "code",
      "metadata": {
        "id": "titFhNsO_ctg",
        "colab": {
          "base_uri": "https://localhost:8080/"
        },
        "outputId": "4ad0fa0f-cd78-4941-f134-6ea55da61829"
      },
      "source": [
        "lista1 = list(input(\"inserire la lista1 \").split(','))\n",
        "lista1 = list([int(n) for n in lista1])\n",
        "\n",
        "listapari = list(filter(lambda x:  x%2 == 0 ,lista1))\n",
        "listadispari = list(filter(lambda y: y%2 != 0  ,lista1))\n",
        "\n",
        "print(listapari,listadispari)"
      ],
      "execution_count": null,
      "outputs": [
        {
          "output_type": "stream",
          "name": "stdout",
          "text": [
            "inserire la lista1 1,2,3,4,5\n",
            "[2, 4] [1, 3, 5]\n"
          ]
        }
      ]
    },
    {
      "cell_type": "markdown",
      "metadata": {
        "id": "YNNd6J0N_drf"
      },
      "source": [
        "7. Cercare su internet che cosa si intende per fattoriale di un numero.\n",
        "Scrivere poi una funzione ricorsiva che calcoli il fattoriale di un numero. Utilizzare poi la funzione creata per scrivere un programma che permetta all'utente di inserire un numero intero e che visualizzi il fattoriale di quel numero. \n"
      ]
    },
    {
      "cell_type": "code",
      "metadata": {
        "id": "2vFi5LUG_d0I",
        "colab": {
          "base_uri": "https://localhost:8080/"
        },
        "outputId": "ecd508d9-e2e5-4ae8-8f63-6af70ce2d0a2"
      },
      "source": [
        "print(\"Il fattoriale è la moltiplicazione di un numero per il suo antecedente\")\n",
        "\n",
        "def fattoriale(n):\n",
        "  if n==0:\n",
        "    return 1\n",
        "  else:\n",
        "    return n*fattoriale(n-1)\n",
        "\n",
        "n = int(input('Inserire il numero: ')) \n",
        "\n",
        "print('Il fattoriale è', fattoriale(n))"
      ],
      "execution_count": null,
      "outputs": [
        {
          "output_type": "stream",
          "name": "stdout",
          "text": [
            "Il fattoriale è la moltiplicazione di un numero per il suo antecedente\n",
            "Inserire il numero: 5\n",
            "Il fattoriale è 120\n"
          ]
        }
      ]
    },
    {
      "cell_type": "markdown",
      "metadata": {
        "id": "g-t3AC83_x6Z"
      },
      "source": [
        "\n",
        "8. Svolgere l'esercizio 7, senza ricorsione"
      ]
    },
    {
      "cell_type": "code",
      "metadata": {
        "id": "sBkQE3rb_yMh",
        "colab": {
          "base_uri": "https://localhost:8080/"
        },
        "outputId": "743c6d7e-a08c-447d-fc3f-b16147fa67b7"
      },
      "source": [
        "n=int(input('Inserire il numero: ')) \n",
        "\n",
        "f = 1\n",
        "\n",
        "for i in range(1,n+1):\n",
        "  f*=i\n",
        "\n",
        "print(f)"
      ],
      "execution_count": null,
      "outputs": [
        {
          "output_type": "stream",
          "name": "stdout",
          "text": [
            "Inserire il numero: 5\n",
            "120\n"
          ]
        }
      ]
    },
    {
      "cell_type": "markdown",
      "metadata": {
        "id": "mUjABblX_yVw"
      },
      "source": [
        "9. Cercare su internet che cosa sono i numeri di Fibonacci. Scrivere poi una funzione ricorsiva che calcoli l'n-esimo numero della sequenza di Fibonacci. Utilizzare poi la funzione creata per scrivere un programma che permetta all'utente di inserire un numero intero e che visualizzi il numero della sequenza di Fibonacci corrispondente."
      ]
    },
    {
      "cell_type": "code",
      "metadata": {
        "id": "lytFxysS_ydR",
        "colab": {
          "base_uri": "https://localhost:8080/"
        },
        "outputId": "2ef95841-4185-467e-fa70-249fbdb2aca2"
      },
      "source": [
        "def fib(n):\n",
        "    if n == 0:\n",
        "        return 0;\n",
        "    if n == 1:\n",
        "        return 1;\n",
        "    else:\n",
        "        return fib(n-1) + fib(n-2)\n",
        "\n",
        "num = int(input(\"inserisci un numero  \"))\n",
        "\n",
        "print(fib(num))\n",
        "\n",
        "\n"
      ],
      "execution_count": null,
      "outputs": [
        {
          "output_type": "stream",
          "name": "stdout",
          "text": [
            "inserisci un numero5\n",
            "5\n"
          ]
        }
      ]
    }
  ]
}