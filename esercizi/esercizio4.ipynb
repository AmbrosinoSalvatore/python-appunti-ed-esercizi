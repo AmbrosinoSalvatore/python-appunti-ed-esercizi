{
  "nbformat": 4,
  "nbformat_minor": 0,
  "metadata": {
    "colab": {
      "name": "funzioni.ipynb",
      "provenance": [],
      "collapsed_sections": []
    },
    "kernelspec": {
      "name": "python3",
      "display_name": "Python 3"
    },
    "language_info": {
      "name": "python"
    }
  },
  "cells": [
    {
      "cell_type": "markdown",
      "metadata": {
        "id": "NdMnhTvIukXF"
      },
      "source": [
        "1. scrivere una funzione chiamata media che dati due numeri restituisca la media. Utilizzare poi la funzione in un programma che acquisisca dall'utente due numeri e calcoli la media"
      ]
    },
    {
      "cell_type": "code",
      "metadata": {
        "colab": {
          "base_uri": "https://localhost:8080/"
        },
        "id": "wRd3m5TAuiy1",
        "outputId": "d524bae0-5d5c-4bbd-dfeb-0f283c58e09a"
      },
      "source": [
        "def media(x,y):\n",
        "  z = (x+y)/2\n",
        "\n",
        "  return z\n",
        "media(int(input(\"primo numero = \")),int(input(\"secondo numero = \")))"
      ],
      "execution_count": null,
      "outputs": [
        {
          "name": "stdout",
          "output_type": "stream",
          "text": [
            "primo numero = 09\n",
            "secondo numero = 017\n"
          ]
        },
        {
          "output_type": "execute_result",
          "data": {
            "text/plain": [
              "13.0"
            ]
          },
          "metadata": {},
          "execution_count": 4
        }
      ]
    },
    {
      "cell_type": "markdown",
      "metadata": {
        "id": "HWwMCJhhumqs"
      },
      "source": [
        "2. scrivere una funzione chiamata piuCorta che date due liste restituisca la lista con meno elementi. Utilizzare poi la funzione in un programma che acquisisca dall'utente due liste e visualizzi gli elementi della lista più corta.\n"
      ]
    },
    {
      "cell_type": "code",
      "metadata": {
        "colab": {
          "base_uri": "https://localhost:8080/"
        },
        "id": "dSMn2iRBuleM",
        "outputId": "db422d08-95c7-4a55-bc10-1b76b6ba2deb"
      },
      "source": [
        "def piùCorta(list1,list2):\n",
        "  if len(list1) > len(list2):\n",
        "    return list2\n",
        "  else:\n",
        "      return list1\n",
        "\n",
        "l1 = [1,2,3,4,5]\n",
        "l2 = [1,1,2,4]\n",
        "print(\"la lista più corta è \"+ str(piùCorta(l1,l2)))\n",
        "\n"
      ],
      "execution_count": null,
      "outputs": [
        {
          "output_type": "stream",
          "name": "stdout",
          "text": [
            "la lista più corta è [1, 1, 2, 4]\n"
          ]
        }
      ]
    },
    {
      "cell_type": "markdown",
      "metadata": {
        "id": "hxO66cljungN"
      },
      "source": [
        "3. scrivere una funzione chiamata costruisciLista che dati due numeri interi restituisca la lista formata da tutti i numeri interi compresi tra i due numeri dati. Utilizzare poi la funzione in un programma che acquisisca dall'utente due numeri e visualizzi la lista formata da tutti i numeri interi compresi tra i due numeri dati ma a partire dal più grande fino al più piccolo."
      ]
    },
    {
      "cell_type": "code",
      "metadata": {
        "colab": {
          "base_uri": "https://localhost:8080/"
        },
        "id": "ZnNGJ3WeupfV",
        "outputId": "5e45c9c3-3c16-4c01-e1b9-3448d5f1f250"
      },
      "source": [
        "def costruisciLista(x,y):\n",
        "  a = min(x,y)\n",
        "  b= max(x,y)\n",
        "  z = [i for i in range(a,b+1)]\n",
        "  return sorted(z, reverse=True)\n",
        "costruisciLista(int(input(\"inserire il primo numero: \")), int(input('inserire il secondo nemuro: ')))\n"
      ],
      "execution_count": null,
      "outputs": [
        {
          "name": "stdout",
          "output_type": "stream",
          "text": [
            "inserire il primo numero: 10\n",
            "inserire il secondo nemuro: 2\n"
          ]
        },
        {
          "output_type": "execute_result",
          "data": {
            "text/plain": [
              "[10, 9, 8, 7, 6, 5, 4, 3, 2]"
            ]
          },
          "metadata": {},
          "execution_count": 23
        }
      ]
    },
    {
      "cell_type": "markdown",
      "metadata": {
        "id": "kbtbG0q0upxz"
      },
      "source": [
        "4. scrivere una funzione chiamata valoreAssoluto che dato un numero restituisca il suo valore assoluto. Utilizzare poi questa funzione per determinare il valore assoluto degli elementi di una lista inserita dall'utente."
      ]
    },
    {
      "cell_type": "code",
      "metadata": {
        "colab": {
          "base_uri": "https://localhost:8080/"
        },
        "id": "QJF2GqAvuqRN",
        "outputId": "d33e9e57-5626-4da7-8651-9aaa9cb97154"
      },
      "source": [
        "arr = input('inserisci la prima lista:').split(',')\n",
        "\n",
        "def valore_assoluto(n):\n",
        "  return abs(n)\n",
        "\n",
        "print([valore_assoluto(float(i)) for i in arr ])\n"
      ],
      "execution_count": null,
      "outputs": [
        {
          "output_type": "stream",
          "name": "stdout",
          "text": [
            "inserisci la prima lista:1,3,5\n",
            "[1.0, 3.0, 5.0]\n"
          ]
        }
      ]
    },
    {
      "cell_type": "markdown",
      "metadata": {
        "id": "bLbo3s-Nuqsc"
      },
      "source": [
        "5. scrivere una funzione chiamata scambia che data una lista scambi il primo elemento con l'ultimo, il secondo con il penultimo e così via. Utilizzare poi la funzione in un programma che acquisisca dall'utente una lista di 10 elementi e li visualizzi scambiati.\n"
      ]
    },
    {
      "cell_type": "code",
      "metadata": {
        "id": "I9T2A9Ekuqk1",
        "colab": {
          "base_uri": "https://localhost:8080/"
        },
        "outputId": "6f7cbce1-e2bf-4c0a-f1cf-fc62f5e85838"
      },
      "source": [
        "\n",
        "def scambia(lista):#lista è il paramatro formale\n",
        "  lista.reverse()\n",
        "  return lista\n",
        "\n",
        "elementi = [ ((input(\"insert element \" )))for i in range(0,4)]\n",
        "elementi2 = [ ((input(\"insert element 2 \" )))for i in range(0,4)]\n",
        "print(scambia(elementi))  #elementi è il parametro attuale\n",
        "print(scambia(elementi2))"
      ],
      "execution_count": null,
      "outputs": [
        {
          "output_type": "stream",
          "name": "stdout",
          "text": [
            "insert element s\n",
            "insert element d\n",
            "insert element g\n",
            "insert element j\n",
            "insert element 2 i\n",
            "insert element 2 u\n",
            "insert element 2 y\n",
            "insert element 2 t\n",
            "['j', 'g', 'd', 's']\n",
            "['t', 'y', 'u', 'i']\n"
          ]
        }
      ]
    },
    {
      "cell_type": "markdown",
      "metadata": {
        "id": "y31byL_wuqb8"
      },
      "source": [
        "6. scrivere una funzione lambda che dati due numeri calcoli la loro somma. Utilizzare la funzione in un programma che chieda all'utente due numeri interi e visualizzi la loro somma.\n"
      ]
    },
    {
      "cell_type": "code",
      "metadata": {
        "id": "DnWYznGOuq09",
        "colab": {
          "base_uri": "https://localhost:8080/"
        },
        "outputId": "7c5043ea-4b85-4628-b069-e7148a671318"
      },
      "source": [
        "lam = lambda x,y: x + y\n",
        "lam(int(input(\"x = \")),int(input(\"y = \")))\n",
        "\n",
        "\n",
        "\n"
      ],
      "execution_count": null,
      "outputs": [
        {
          "name": "stdout",
          "output_type": "stream",
          "text": [
            "x = 2\n",
            "y = 2\n"
          ]
        },
        {
          "output_type": "execute_result",
          "data": {
            "text/plain": [
              "4"
            ]
          },
          "metadata": {},
          "execution_count": 18
        }
      ]
    },
    {
      "cell_type": "markdown",
      "metadata": {
        "id": "bnESmB8iuq8U"
      },
      "source": [
        "7. scrivere un programma che utilizzi una lambda function per aumentare di 10 unità tutti gli elementi di una lista di interi inserita dall'utente.\n"
      ]
    },
    {
      "cell_type": "code",
      "metadata": {
        "id": "O_Jm4zJJurFl",
        "colab": {
          "base_uri": "https://localhost:8080/"
        },
        "outputId": "18a41841-f253-4aad-b0e3-dea76edf7140"
      },
      "source": [
        "lista = [int(input())]\n",
        "lista= list(map(lambda x: x + 10,lista))#map è una funziona che applica ad ogni elemento di una lista una funzione\n",
        "print(lista)"
      ],
      "execution_count": null,
      "outputs": [
        {
          "output_type": "stream",
          "name": "stdout",
          "text": [
            "[11, 13, 15, 16, 66]\n"
          ]
        }
      ]
    },
    {
      "cell_type": "markdown",
      "metadata": {
        "id": "9U5iTXPrurPM"
      },
      "source": [
        "8. scrivere una funzione lambda che sostituisca il valore 0 se il parametro è negativo, il valore del parametro se è positivo. Utilizzare poi la funzione in un programma che chieda all'utente i 10 elementi di una lista e visualizzi la lista con il valore 0 al posto dei numeri negativi.\n",
        "\n"
      ]
    },
    {
      "cell_type": "code",
      "metadata": {
        "id": "jb8XKWzlurWM",
        "colab": {
          "base_uri": "https://localhost:8080/"
        },
        "outputId": "ddd85bfe-ccaa-4821-971a-4d729bd07332"
      },
      "source": [
        "def sost(valore):\n",
        "  if valore < 0:\n",
        "    return 0\n",
        "  else:\n",
        "    return valore\n",
        "\n",
        "l = [int(input(\"insert element \" ))for i in range(0,4)]\n",
        "l2 = [sost(elemento) for elemento in l]\n",
        "print(l)\n",
        "print(l2)\n",
        "sost2 = lambda x: x if x >= 0 else 0 \n",
        "lst3 = [sost2(elemento) for elemento in l]\n",
        "print(lst3)\n",
        "\n",
        "\n"
      ],
      "execution_count": null,
      "outputs": [
        {
          "output_type": "stream",
          "name": "stdout",
          "text": [
            "insert element 1\n",
            "insert element -2\n",
            "insert element -4\n",
            "insert element -6\n",
            "[1, -2, -4, -6]\n",
            "[1, 0, 0, 0]\n",
            "[1, 0, 0, 0]\n"
          ]
        }
      ]
    },
    {
      "cell_type": "markdown",
      "metadata": {
        "id": "i1-6x9W_urcm"
      },
      "source": [
        "9. scrivere un programma che calcoli il fattoriale di un numero utilizzando una lambda function. Provare a realizzare una lambda function ricorsiva (per la "
      ]
    },
    {
      "cell_type": "code",
      "metadata": {
        "id": "ASQgSkyKvQHE",
        "colab": {
          "base_uri": "https://localhost:8080/"
        },
        "outputId": "e4a10373-2516-4f2b-9ab1-0c613632ace3"
      },
      "source": [
        "fatt = lambda n: 1 if n==0 else n * fatt(n - 1)\n",
        "fatt(968)\n"
      ],
      "execution_count": null,
      "outputs": [
        {
          "output_type": "execute_result",
          "data": {
            "text/plain": [
              "664281859377706235192276234565735250298568313080526163562226238075190230264260968184891752376551055458858868845802771628998265183359657872849110022955882655189833013229049439318347811680355299701904679694647881149111960747002616558499159930034562656909570044323303107667613126850702236175933392658287984267795168869866655546086373961126640643493002192149149589430599885850470638761667252980522443755822245696263607872205631669346321628886572549328231847211559951826546237412596594227374267165676091028080773281367997049855638888289693960776920898443319590886522505141920372578800743515002232457035837540322152095005614039813604940244740322154291989440470969758700664661206389740639685720542157509260553812351796372638856443137152445775461105022165213448780995031143624923972342176598057489490032310361156551978888682608614105985955471234328654986436508921031947491856978125270693505979483833975868938803000183499601990951768261614953969456203601790994331224932421694290073628552184232742758034388762816373139491535489873471003958890525853918831534178546689330491330536547725283747803439836444446686636364959567448398503288367883690540658265662821767308792812082252570803466521792843597654003420008122537336884893013129091158834382300606656480872235523350294508829733670488820174822559406868193015100879062889628448581229840345645893314304232228206458630258163150562583853136112224332490697072456997229389058751315238439641541541620827302400266663488380417676391944451359847595528565068633223383159791538709891415420262977834308648078493095741788601534309143636175862955283418424715831760243609217052270707883580084081809212733334375045732533594318319088178984355011010043779685654814694511560095464396131045602018897308591795762650046234954923255043382175979167812948383373984946306663853569834366905802758443498159140215108265020134392390695222990876084873772394232715419443503472974237462776879829648140005803152750153482561231977493094790737598781535881102558770598040372737018562185088875063368629875191668273801474753544765169528968047055394726165070658202074377925031548589573668994437364746283719197598621980176359865919509098133211316156147859804034333315519977260946172624443111086625505843823618065133882891620807626824089600000000000000000000000000000000000000000000000000000000000000000000000000000000000000000000000000000000000000000000000000000000000000000000000000000000000000000000000000000000000000000000000000000000000000000000000000000000000000000000000"
            ]
          },
          "metadata": {},
          "execution_count": 24
        }
      ]
    }
  ]
}