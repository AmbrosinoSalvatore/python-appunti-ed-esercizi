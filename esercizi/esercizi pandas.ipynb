{
  "nbformat": 4,
  "nbformat_minor": 0,
  "metadata": {
    "colab": {
      "name": "Untitled9.ipynb",
      "provenance": [],
      "collapsed_sections": []
    },
    "kernelspec": {
      "name": "python3",
      "display_name": "Python 3"
    },
    "language_info": {
      "name": "python"
    }
  },
  "cells": [
    {
      "cell_type": "code",
      "metadata": {
        "id": "wTXlvRNo6BR4"
      },
      "source": [
        "import pandas as pd"
      ],
      "execution_count": null,
      "outputs": []
    },
    {
      "cell_type": "markdown",
      "metadata": {
        "id": "LeIHojuf6f4O"
      },
      "source": [
        "Scrivere le istruzioni per caricare i dati del file csv (inventare il link e il nome del file) in un dataframe Pandas chiamato “movies”\n"
      ]
    },
    {
      "cell_type": "code",
      "metadata": {
        "colab": {
          "base_uri": "https://localhost:8080/",
          "height": 419
        },
        "id": "nLxaQ5X66fin",
        "outputId": "a29c6c54-5fb3-4c29-d2eb-2efa7dd243bc"
      },
      "source": [
        "url = 'https://gist.githubusercontent.com/tiangechen/b68782efa49a16edaf07dc2cdaa855ea/raw/0c794a9717f18b094eabab2cd6a6b9a226903577/movies.csv'\n",
        "movies = pd.read_csv(url)\n",
        "movies"
      ],
      "execution_count": null,
      "outputs": [
        {
          "output_type": "execute_result",
          "data": {
            "text/html": [
              "<div>\n",
              "<style scoped>\n",
              "    .dataframe tbody tr th:only-of-type {\n",
              "        vertical-align: middle;\n",
              "    }\n",
              "\n",
              "    .dataframe tbody tr th {\n",
              "        vertical-align: top;\n",
              "    }\n",
              "\n",
              "    .dataframe thead th {\n",
              "        text-align: right;\n",
              "    }\n",
              "</style>\n",
              "<table border=\"1\" class=\"dataframe\">\n",
              "  <thead>\n",
              "    <tr style=\"text-align: right;\">\n",
              "      <th></th>\n",
              "      <th>Film</th>\n",
              "      <th>Genre</th>\n",
              "      <th>Lead Studio</th>\n",
              "      <th>Audience score %</th>\n",
              "      <th>Profitability</th>\n",
              "      <th>Rotten Tomatoes %</th>\n",
              "      <th>Worldwide Gross</th>\n",
              "      <th>Year</th>\n",
              "    </tr>\n",
              "  </thead>\n",
              "  <tbody>\n",
              "    <tr>\n",
              "      <th>0</th>\n",
              "      <td>Zack and Miri Make a Porno</td>\n",
              "      <td>Romance</td>\n",
              "      <td>The Weinstein Company</td>\n",
              "      <td>70</td>\n",
              "      <td>1.747542</td>\n",
              "      <td>64</td>\n",
              "      <td>$41.94</td>\n",
              "      <td>2008</td>\n",
              "    </tr>\n",
              "    <tr>\n",
              "      <th>1</th>\n",
              "      <td>Youth in Revolt</td>\n",
              "      <td>Comedy</td>\n",
              "      <td>The Weinstein Company</td>\n",
              "      <td>52</td>\n",
              "      <td>1.090000</td>\n",
              "      <td>68</td>\n",
              "      <td>$19.62</td>\n",
              "      <td>2010</td>\n",
              "    </tr>\n",
              "    <tr>\n",
              "      <th>2</th>\n",
              "      <td>You Will Meet a Tall Dark Stranger</td>\n",
              "      <td>Comedy</td>\n",
              "      <td>Independent</td>\n",
              "      <td>35</td>\n",
              "      <td>1.211818</td>\n",
              "      <td>43</td>\n",
              "      <td>$26.66</td>\n",
              "      <td>2010</td>\n",
              "    </tr>\n",
              "    <tr>\n",
              "      <th>3</th>\n",
              "      <td>When in Rome</td>\n",
              "      <td>Comedy</td>\n",
              "      <td>Disney</td>\n",
              "      <td>44</td>\n",
              "      <td>0.000000</td>\n",
              "      <td>15</td>\n",
              "      <td>$43.04</td>\n",
              "      <td>2010</td>\n",
              "    </tr>\n",
              "    <tr>\n",
              "      <th>4</th>\n",
              "      <td>What Happens in Vegas</td>\n",
              "      <td>Comedy</td>\n",
              "      <td>Fox</td>\n",
              "      <td>72</td>\n",
              "      <td>6.267647</td>\n",
              "      <td>28</td>\n",
              "      <td>$219.37</td>\n",
              "      <td>2008</td>\n",
              "    </tr>\n",
              "    <tr>\n",
              "      <th>...</th>\n",
              "      <td>...</td>\n",
              "      <td>...</td>\n",
              "      <td>...</td>\n",
              "      <td>...</td>\n",
              "      <td>...</td>\n",
              "      <td>...</td>\n",
              "      <td>...</td>\n",
              "      <td>...</td>\n",
              "    </tr>\n",
              "    <tr>\n",
              "      <th>72</th>\n",
              "      <td>Across the Universe</td>\n",
              "      <td>romance</td>\n",
              "      <td>Independent</td>\n",
              "      <td>84</td>\n",
              "      <td>0.652603</td>\n",
              "      <td>54</td>\n",
              "      <td>$29.37</td>\n",
              "      <td>2007</td>\n",
              "    </tr>\n",
              "    <tr>\n",
              "      <th>73</th>\n",
              "      <td>A Serious Man</td>\n",
              "      <td>Drama</td>\n",
              "      <td>Universal</td>\n",
              "      <td>64</td>\n",
              "      <td>4.382857</td>\n",
              "      <td>89</td>\n",
              "      <td>$30.68</td>\n",
              "      <td>2009</td>\n",
              "    </tr>\n",
              "    <tr>\n",
              "      <th>74</th>\n",
              "      <td>A Dangerous Method</td>\n",
              "      <td>Drama</td>\n",
              "      <td>Independent</td>\n",
              "      <td>89</td>\n",
              "      <td>0.448645</td>\n",
              "      <td>79</td>\n",
              "      <td>$8.97</td>\n",
              "      <td>2011</td>\n",
              "    </tr>\n",
              "    <tr>\n",
              "      <th>75</th>\n",
              "      <td>27 Dresses</td>\n",
              "      <td>Comedy</td>\n",
              "      <td>Fox</td>\n",
              "      <td>71</td>\n",
              "      <td>5.343622</td>\n",
              "      <td>40</td>\n",
              "      <td>$160.31</td>\n",
              "      <td>2008</td>\n",
              "    </tr>\n",
              "    <tr>\n",
              "      <th>76</th>\n",
              "      <td>(500) Days of Summer</td>\n",
              "      <td>comedy</td>\n",
              "      <td>Fox</td>\n",
              "      <td>81</td>\n",
              "      <td>8.096000</td>\n",
              "      <td>87</td>\n",
              "      <td>$60.72</td>\n",
              "      <td>2009</td>\n",
              "    </tr>\n",
              "  </tbody>\n",
              "</table>\n",
              "<p>77 rows × 8 columns</p>\n",
              "</div>"
            ],
            "text/plain": [
              "                                  Film    Genre  ... Worldwide Gross  Year\n",
              "0           Zack and Miri Make a Porno  Romance  ...         $41.94   2008\n",
              "1                      Youth in Revolt   Comedy  ...         $19.62   2010\n",
              "2   You Will Meet a Tall Dark Stranger   Comedy  ...         $26.66   2010\n",
              "3                         When in Rome   Comedy  ...         $43.04   2010\n",
              "4                What Happens in Vegas   Comedy  ...        $219.37   2008\n",
              "..                                 ...      ...  ...             ...   ...\n",
              "72                 Across the Universe  romance  ...         $29.37   2007\n",
              "73                       A Serious Man    Drama  ...         $30.68   2009\n",
              "74                  A Dangerous Method    Drama  ...          $8.97   2011\n",
              "75                          27 Dresses   Comedy  ...        $160.31   2008\n",
              "76                (500) Days of Summer   comedy  ...         $60.72   2009\n",
              "\n",
              "[77 rows x 8 columns]"
            ]
          },
          "metadata": {},
          "execution_count": 2
        }
      ]
    },
    {
      "cell_type": "markdown",
      "metadata": {
        "id": "axqfzFPU75Sw"
      },
      "source": [
        "visualizzare le ultime 8 righe del dataframe"
      ]
    },
    {
      "cell_type": "code",
      "metadata": {
        "colab": {
          "base_uri": "https://localhost:8080/",
          "height": 297
        },
        "id": "74VaN3Dp75a-",
        "outputId": "8476356c-bb63-4184-9039-eb01a7463145"
      },
      "source": [
        "movies.tail(8)"
      ],
      "execution_count": null,
      "outputs": [
        {
          "output_type": "execute_result",
          "data": {
            "text/html": [
              "<div>\n",
              "<style scoped>\n",
              "    .dataframe tbody tr th:only-of-type {\n",
              "        vertical-align: middle;\n",
              "    }\n",
              "\n",
              "    .dataframe tbody tr th {\n",
              "        vertical-align: top;\n",
              "    }\n",
              "\n",
              "    .dataframe thead th {\n",
              "        text-align: right;\n",
              "    }\n",
              "</style>\n",
              "<table border=\"1\" class=\"dataframe\">\n",
              "  <thead>\n",
              "    <tr style=\"text-align: right;\">\n",
              "      <th></th>\n",
              "      <th>Film</th>\n",
              "      <th>Genre</th>\n",
              "      <th>Lead Studio</th>\n",
              "      <th>Audience score %</th>\n",
              "      <th>Profitability</th>\n",
              "      <th>Rotten Tomatoes %</th>\n",
              "      <th>Worldwide Gross</th>\n",
              "      <th>Year</th>\n",
              "    </tr>\n",
              "  </thead>\n",
              "  <tbody>\n",
              "    <tr>\n",
              "      <th>69</th>\n",
              "      <td>Enchanted</td>\n",
              "      <td>Comedy</td>\n",
              "      <td>Disney</td>\n",
              "      <td>80</td>\n",
              "      <td>4.005737</td>\n",
              "      <td>93</td>\n",
              "      <td>$340.49</td>\n",
              "      <td>2007</td>\n",
              "    </tr>\n",
              "    <tr>\n",
              "      <th>70</th>\n",
              "      <td>Dear John</td>\n",
              "      <td>Drama</td>\n",
              "      <td>Sony</td>\n",
              "      <td>66</td>\n",
              "      <td>4.598800</td>\n",
              "      <td>29</td>\n",
              "      <td>$114.97</td>\n",
              "      <td>2010</td>\n",
              "    </tr>\n",
              "    <tr>\n",
              "      <th>71</th>\n",
              "      <td>Beginners</td>\n",
              "      <td>Comedy</td>\n",
              "      <td>Independent</td>\n",
              "      <td>80</td>\n",
              "      <td>4.471875</td>\n",
              "      <td>84</td>\n",
              "      <td>$14.31</td>\n",
              "      <td>2011</td>\n",
              "    </tr>\n",
              "    <tr>\n",
              "      <th>72</th>\n",
              "      <td>Across the Universe</td>\n",
              "      <td>romance</td>\n",
              "      <td>Independent</td>\n",
              "      <td>84</td>\n",
              "      <td>0.652603</td>\n",
              "      <td>54</td>\n",
              "      <td>$29.37</td>\n",
              "      <td>2007</td>\n",
              "    </tr>\n",
              "    <tr>\n",
              "      <th>73</th>\n",
              "      <td>A Serious Man</td>\n",
              "      <td>Drama</td>\n",
              "      <td>Universal</td>\n",
              "      <td>64</td>\n",
              "      <td>4.382857</td>\n",
              "      <td>89</td>\n",
              "      <td>$30.68</td>\n",
              "      <td>2009</td>\n",
              "    </tr>\n",
              "    <tr>\n",
              "      <th>74</th>\n",
              "      <td>A Dangerous Method</td>\n",
              "      <td>Drama</td>\n",
              "      <td>Independent</td>\n",
              "      <td>89</td>\n",
              "      <td>0.448645</td>\n",
              "      <td>79</td>\n",
              "      <td>$8.97</td>\n",
              "      <td>2011</td>\n",
              "    </tr>\n",
              "    <tr>\n",
              "      <th>75</th>\n",
              "      <td>27 Dresses</td>\n",
              "      <td>Comedy</td>\n",
              "      <td>Fox</td>\n",
              "      <td>71</td>\n",
              "      <td>5.343622</td>\n",
              "      <td>40</td>\n",
              "      <td>$160.31</td>\n",
              "      <td>2008</td>\n",
              "    </tr>\n",
              "    <tr>\n",
              "      <th>76</th>\n",
              "      <td>(500) Days of Summer</td>\n",
              "      <td>comedy</td>\n",
              "      <td>Fox</td>\n",
              "      <td>81</td>\n",
              "      <td>8.096000</td>\n",
              "      <td>87</td>\n",
              "      <td>$60.72</td>\n",
              "      <td>2009</td>\n",
              "    </tr>\n",
              "  </tbody>\n",
              "</table>\n",
              "</div>"
            ],
            "text/plain": [
              "                    Film    Genre  ... Worldwide Gross  Year\n",
              "69             Enchanted   Comedy  ...        $340.49   2007\n",
              "70             Dear John    Drama  ...        $114.97   2010\n",
              "71             Beginners   Comedy  ...         $14.31   2011\n",
              "72   Across the Universe  romance  ...         $29.37   2007\n",
              "73         A Serious Man    Drama  ...         $30.68   2009\n",
              "74    A Dangerous Method    Drama  ...          $8.97   2011\n",
              "75            27 Dresses   Comedy  ...        $160.31   2008\n",
              "76  (500) Days of Summer   comedy  ...         $60.72   2009\n",
              "\n",
              "[8 rows x 8 columns]"
            ]
          },
          "metadata": {},
          "execution_count": 8
        }
      ]
    },
    {
      "cell_type": "markdown",
      "metadata": {
        "id": "1WohfUwY8IAO"
      },
      "source": [
        "visualizzare solo le colonne che contengono il titolo e il genere del film"
      ]
    },
    {
      "cell_type": "code",
      "metadata": {
        "colab": {
          "base_uri": "https://localhost:8080/",
          "height": 419
        },
        "id": "x_7wQgrt8IqW",
        "outputId": "5a3ba296-3af8-44c5-b185-28f9db033040"
      },
      "source": [
        "movies[['Film','Genre']]"
      ],
      "execution_count": null,
      "outputs": [
        {
          "output_type": "execute_result",
          "data": {
            "text/html": [
              "<div>\n",
              "<style scoped>\n",
              "    .dataframe tbody tr th:only-of-type {\n",
              "        vertical-align: middle;\n",
              "    }\n",
              "\n",
              "    .dataframe tbody tr th {\n",
              "        vertical-align: top;\n",
              "    }\n",
              "\n",
              "    .dataframe thead th {\n",
              "        text-align: right;\n",
              "    }\n",
              "</style>\n",
              "<table border=\"1\" class=\"dataframe\">\n",
              "  <thead>\n",
              "    <tr style=\"text-align: right;\">\n",
              "      <th></th>\n",
              "      <th>Film</th>\n",
              "      <th>Genre</th>\n",
              "    </tr>\n",
              "  </thead>\n",
              "  <tbody>\n",
              "    <tr>\n",
              "      <th>0</th>\n",
              "      <td>Zack and Miri Make a Porno</td>\n",
              "      <td>Romance</td>\n",
              "    </tr>\n",
              "    <tr>\n",
              "      <th>1</th>\n",
              "      <td>Youth in Revolt</td>\n",
              "      <td>Comedy</td>\n",
              "    </tr>\n",
              "    <tr>\n",
              "      <th>2</th>\n",
              "      <td>You Will Meet a Tall Dark Stranger</td>\n",
              "      <td>Comedy</td>\n",
              "    </tr>\n",
              "    <tr>\n",
              "      <th>3</th>\n",
              "      <td>When in Rome</td>\n",
              "      <td>Comedy</td>\n",
              "    </tr>\n",
              "    <tr>\n",
              "      <th>4</th>\n",
              "      <td>What Happens in Vegas</td>\n",
              "      <td>Comedy</td>\n",
              "    </tr>\n",
              "    <tr>\n",
              "      <th>...</th>\n",
              "      <td>...</td>\n",
              "      <td>...</td>\n",
              "    </tr>\n",
              "    <tr>\n",
              "      <th>72</th>\n",
              "      <td>Across the Universe</td>\n",
              "      <td>romance</td>\n",
              "    </tr>\n",
              "    <tr>\n",
              "      <th>73</th>\n",
              "      <td>A Serious Man</td>\n",
              "      <td>Drama</td>\n",
              "    </tr>\n",
              "    <tr>\n",
              "      <th>74</th>\n",
              "      <td>A Dangerous Method</td>\n",
              "      <td>Drama</td>\n",
              "    </tr>\n",
              "    <tr>\n",
              "      <th>75</th>\n",
              "      <td>27 Dresses</td>\n",
              "      <td>Comedy</td>\n",
              "    </tr>\n",
              "    <tr>\n",
              "      <th>76</th>\n",
              "      <td>(500) Days of Summer</td>\n",
              "      <td>comedy</td>\n",
              "    </tr>\n",
              "  </tbody>\n",
              "</table>\n",
              "<p>77 rows × 2 columns</p>\n",
              "</div>"
            ],
            "text/plain": [
              "                                  Film    Genre\n",
              "0           Zack and Miri Make a Porno  Romance\n",
              "1                      Youth in Revolt   Comedy\n",
              "2   You Will Meet a Tall Dark Stranger   Comedy\n",
              "3                         When in Rome   Comedy\n",
              "4                What Happens in Vegas   Comedy\n",
              "..                                 ...      ...\n",
              "72                 Across the Universe  romance\n",
              "73                       A Serious Man    Drama\n",
              "74                  A Dangerous Method    Drama\n",
              "75                          27 Dresses   Comedy\n",
              "76                (500) Days of Summer   comedy\n",
              "\n",
              "[77 rows x 2 columns]"
            ]
          },
          "metadata": {},
          "execution_count": 9
        }
      ]
    },
    {
      "cell_type": "markdown",
      "metadata": {
        "id": "RLbYUPve8fie"
      },
      "source": [
        "visualizzare le righe del dataframe dalla 20 alla 30\n"
      ]
    },
    {
      "cell_type": "code",
      "metadata": {
        "colab": {
          "base_uri": "https://localhost:8080/",
          "height": 390
        },
        "id": "_5xKGLN08gXW",
        "outputId": "e6c0bcb4-fb07-41e9-803c-4d0041c70bec"
      },
      "source": [
        "movies.iloc[20:31]"
      ],
      "execution_count": null,
      "outputs": [
        {
          "output_type": "execute_result",
          "data": {
            "text/html": [
              "<div>\n",
              "<style scoped>\n",
              "    .dataframe tbody tr th:only-of-type {\n",
              "        vertical-align: middle;\n",
              "    }\n",
              "\n",
              "    .dataframe tbody tr th {\n",
              "        vertical-align: top;\n",
              "    }\n",
              "\n",
              "    .dataframe thead th {\n",
              "        text-align: right;\n",
              "    }\n",
              "</style>\n",
              "<table border=\"1\" class=\"dataframe\">\n",
              "  <thead>\n",
              "    <tr style=\"text-align: right;\">\n",
              "      <th></th>\n",
              "      <th>Film</th>\n",
              "      <th>Genre</th>\n",
              "      <th>Lead Studio</th>\n",
              "      <th>Audience score %</th>\n",
              "      <th>Profitability</th>\n",
              "      <th>Rotten Tomatoes %</th>\n",
              "      <th>Worldwide Gross</th>\n",
              "      <th>Year</th>\n",
              "    </tr>\n",
              "  </thead>\n",
              "  <tbody>\n",
              "    <tr>\n",
              "      <th>20</th>\n",
              "      <td>The Curious Case of Benjamin Button</td>\n",
              "      <td>Fantasy</td>\n",
              "      <td>Warner Bros.</td>\n",
              "      <td>81</td>\n",
              "      <td>1.783944</td>\n",
              "      <td>73</td>\n",
              "      <td>$285.43</td>\n",
              "      <td>2008</td>\n",
              "    </tr>\n",
              "    <tr>\n",
              "      <th>21</th>\n",
              "      <td>The Back-up Plan</td>\n",
              "      <td>Comedy</td>\n",
              "      <td>CBS</td>\n",
              "      <td>47</td>\n",
              "      <td>2.202571</td>\n",
              "      <td>20</td>\n",
              "      <td>$77.09</td>\n",
              "      <td>2010</td>\n",
              "    </tr>\n",
              "    <tr>\n",
              "      <th>22</th>\n",
              "      <td>Tangled</td>\n",
              "      <td>Animation</td>\n",
              "      <td>Disney</td>\n",
              "      <td>88</td>\n",
              "      <td>1.365692</td>\n",
              "      <td>89</td>\n",
              "      <td>$355.01</td>\n",
              "      <td>2010</td>\n",
              "    </tr>\n",
              "    <tr>\n",
              "      <th>23</th>\n",
              "      <td>Something Borrowed</td>\n",
              "      <td>Romance</td>\n",
              "      <td>Independent</td>\n",
              "      <td>48</td>\n",
              "      <td>1.719514</td>\n",
              "      <td>15</td>\n",
              "      <td>$60.18</td>\n",
              "      <td>2011</td>\n",
              "    </tr>\n",
              "    <tr>\n",
              "      <th>24</th>\n",
              "      <td>She's Out of My League</td>\n",
              "      <td>Comedy</td>\n",
              "      <td>Paramount</td>\n",
              "      <td>60</td>\n",
              "      <td>2.440500</td>\n",
              "      <td>57</td>\n",
              "      <td>$48.81</td>\n",
              "      <td>2010</td>\n",
              "    </tr>\n",
              "    <tr>\n",
              "      <th>25</th>\n",
              "      <td>Sex and the City Two</td>\n",
              "      <td>Comedy</td>\n",
              "      <td>Warner Bros.</td>\n",
              "      <td>49</td>\n",
              "      <td>2.883500</td>\n",
              "      <td>15</td>\n",
              "      <td>$288.35</td>\n",
              "      <td>2010</td>\n",
              "    </tr>\n",
              "    <tr>\n",
              "      <th>26</th>\n",
              "      <td>Sex and the City 2</td>\n",
              "      <td>Comedy</td>\n",
              "      <td>Warner Bros.</td>\n",
              "      <td>49</td>\n",
              "      <td>2.883500</td>\n",
              "      <td>15</td>\n",
              "      <td>$288.35</td>\n",
              "      <td>2010</td>\n",
              "    </tr>\n",
              "    <tr>\n",
              "      <th>27</th>\n",
              "      <td>Sex and the City</td>\n",
              "      <td>Comedy</td>\n",
              "      <td>Warner Bros.</td>\n",
              "      <td>81</td>\n",
              "      <td>7.221796</td>\n",
              "      <td>49</td>\n",
              "      <td>$415.25</td>\n",
              "      <td>2008</td>\n",
              "    </tr>\n",
              "    <tr>\n",
              "      <th>28</th>\n",
              "      <td>Remember Me</td>\n",
              "      <td>Drama</td>\n",
              "      <td>Summit</td>\n",
              "      <td>70</td>\n",
              "      <td>3.491250</td>\n",
              "      <td>28</td>\n",
              "      <td>$55.86</td>\n",
              "      <td>2010</td>\n",
              "    </tr>\n",
              "    <tr>\n",
              "      <th>29</th>\n",
              "      <td>Rachel Getting Married</td>\n",
              "      <td>Drama</td>\n",
              "      <td>Independent</td>\n",
              "      <td>61</td>\n",
              "      <td>1.384167</td>\n",
              "      <td>85</td>\n",
              "      <td>$16.61</td>\n",
              "      <td>2008</td>\n",
              "    </tr>\n",
              "    <tr>\n",
              "      <th>30</th>\n",
              "      <td>Penelope</td>\n",
              "      <td>Comedy</td>\n",
              "      <td>Summit</td>\n",
              "      <td>74</td>\n",
              "      <td>1.382800</td>\n",
              "      <td>52</td>\n",
              "      <td>$20.74</td>\n",
              "      <td>2008</td>\n",
              "    </tr>\n",
              "  </tbody>\n",
              "</table>\n",
              "</div>"
            ],
            "text/plain": [
              "                                   Film      Genre  ... Worldwide Gross  Year\n",
              "20  The Curious Case of Benjamin Button    Fantasy  ...        $285.43   2008\n",
              "21                     The Back-up Plan     Comedy  ...         $77.09   2010\n",
              "22                              Tangled  Animation  ...        $355.01   2010\n",
              "23                   Something Borrowed    Romance  ...         $60.18   2011\n",
              "24               She's Out of My League     Comedy  ...         $48.81   2010\n",
              "25                 Sex and the City Two     Comedy  ...        $288.35   2010\n",
              "26                   Sex and the City 2     Comedy  ...        $288.35   2010\n",
              "27                     Sex and the City     Comedy  ...        $415.25   2008\n",
              "28                          Remember Me      Drama  ...         $55.86   2010\n",
              "29               Rachel Getting Married      Drama  ...         $16.61   2008\n",
              "30                             Penelope     Comedy  ...         $20.74   2008\n",
              "\n",
              "[11 rows x 8 columns]"
            ]
          },
          "metadata": {},
          "execution_count": 10
        }
      ]
    },
    {
      "cell_type": "markdown",
      "metadata": {
        "id": "FI0fqkys8m5W"
      },
      "source": [
        "visualizzare i titolo e l’anno dei film che si trovano nelle posizioni 23, 29 e 45\n"
      ]
    },
    {
      "cell_type": "code",
      "metadata": {
        "colab": {
          "base_uri": "https://localhost:8080/",
          "height": 142
        },
        "id": "PJe4Rq2f8og3",
        "outputId": "8e4dea81-76ba-4684-e912-bd85660d7205"
      },
      "source": [
        "movies.loc[[23,29,45],['Film','Year']]"
      ],
      "execution_count": null,
      "outputs": [
        {
          "output_type": "execute_result",
          "data": {
            "text/html": [
              "<div>\n",
              "<style scoped>\n",
              "    .dataframe tbody tr th:only-of-type {\n",
              "        vertical-align: middle;\n",
              "    }\n",
              "\n",
              "    .dataframe tbody tr th {\n",
              "        vertical-align: top;\n",
              "    }\n",
              "\n",
              "    .dataframe thead th {\n",
              "        text-align: right;\n",
              "    }\n",
              "</style>\n",
              "<table border=\"1\" class=\"dataframe\">\n",
              "  <thead>\n",
              "    <tr style=\"text-align: right;\">\n",
              "      <th></th>\n",
              "      <th>Film</th>\n",
              "      <th>Year</th>\n",
              "    </tr>\n",
              "  </thead>\n",
              "  <tbody>\n",
              "    <tr>\n",
              "      <th>23</th>\n",
              "      <td>Something Borrowed</td>\n",
              "      <td>2011</td>\n",
              "    </tr>\n",
              "    <tr>\n",
              "      <th>29</th>\n",
              "      <td>Rachel Getting Married</td>\n",
              "      <td>2008</td>\n",
              "    </tr>\n",
              "    <tr>\n",
              "      <th>45</th>\n",
              "      <td>Mamma Mia!</td>\n",
              "      <td>2008</td>\n",
              "    </tr>\n",
              "  </tbody>\n",
              "</table>\n",
              "</div>"
            ],
            "text/plain": [
              "                      Film  Year\n",
              "23      Something Borrowed  2011\n",
              "29  Rachel Getting Married  2008\n",
              "45              Mamma Mia!  2008"
            ]
          },
          "metadata": {},
          "execution_count": 11
        }
      ]
    },
    {
      "cell_type": "markdown",
      "metadata": {
        "id": "LGMUaQp79sKY"
      },
      "source": [
        "visualizzare i titoli dei film del genere “Animation”\n"
      ]
    },
    {
      "cell_type": "code",
      "metadata": {
        "colab": {
          "base_uri": "https://localhost:8080/",
          "height": 173
        },
        "id": "fWdYiUA69viv",
        "outputId": "b2022c8c-3f95-4bb3-c4a9-e6b6fcd4a4fb"
      },
      "source": [
        "movies.loc[(movies['Genre'] == 'Animation')]"
      ],
      "execution_count": null,
      "outputs": [
        {
          "output_type": "execute_result",
          "data": {
            "text/html": [
              "<div>\n",
              "<style scoped>\n",
              "    .dataframe tbody tr th:only-of-type {\n",
              "        vertical-align: middle;\n",
              "    }\n",
              "\n",
              "    .dataframe tbody tr th {\n",
              "        vertical-align: top;\n",
              "    }\n",
              "\n",
              "    .dataframe thead th {\n",
              "        text-align: right;\n",
              "    }\n",
              "</style>\n",
              "<table border=\"1\" class=\"dataframe\">\n",
              "  <thead>\n",
              "    <tr style=\"text-align: right;\">\n",
              "      <th></th>\n",
              "      <th>Film</th>\n",
              "      <th>Genre</th>\n",
              "      <th>Lead Studio</th>\n",
              "      <th>Audience score %</th>\n",
              "      <th>Profitability</th>\n",
              "      <th>Rotten Tomatoes %</th>\n",
              "      <th>Worldwide Gross</th>\n",
              "      <th>Year</th>\n",
              "    </tr>\n",
              "  </thead>\n",
              "  <tbody>\n",
              "    <tr>\n",
              "      <th>6</th>\n",
              "      <td>WALL-E</td>\n",
              "      <td>Animation</td>\n",
              "      <td>Disney</td>\n",
              "      <td>89</td>\n",
              "      <td>2.896019</td>\n",
              "      <td>96</td>\n",
              "      <td>$521.28</td>\n",
              "      <td>2008</td>\n",
              "    </tr>\n",
              "    <tr>\n",
              "      <th>22</th>\n",
              "      <td>Tangled</td>\n",
              "      <td>Animation</td>\n",
              "      <td>Disney</td>\n",
              "      <td>88</td>\n",
              "      <td>1.365692</td>\n",
              "      <td>89</td>\n",
              "      <td>$355.01</td>\n",
              "      <td>2010</td>\n",
              "    </tr>\n",
              "    <tr>\n",
              "      <th>64</th>\n",
              "      <td>Gnomeo and Juliet</td>\n",
              "      <td>Animation</td>\n",
              "      <td>Disney</td>\n",
              "      <td>52</td>\n",
              "      <td>5.387972</td>\n",
              "      <td>56</td>\n",
              "      <td>$193.97</td>\n",
              "      <td>2011</td>\n",
              "    </tr>\n",
              "    <tr>\n",
              "      <th>65</th>\n",
              "      <td>Gnomeo and Juliet</td>\n",
              "      <td>Animation</td>\n",
              "      <td>Disney</td>\n",
              "      <td>52</td>\n",
              "      <td>5.387972</td>\n",
              "      <td>56</td>\n",
              "      <td>$193.97</td>\n",
              "      <td>2011</td>\n",
              "    </tr>\n",
              "  </tbody>\n",
              "</table>\n",
              "</div>"
            ],
            "text/plain": [
              "                 Film      Genre  ... Worldwide Gross  Year\n",
              "6              WALL-E  Animation  ...        $521.28   2008\n",
              "22            Tangled  Animation  ...        $355.01   2010\n",
              "64  Gnomeo and Juliet  Animation  ...        $193.97   2011\n",
              "65  Gnomeo and Juliet  Animation  ...        $193.97   2011\n",
              "\n",
              "[4 rows x 8 columns]"
            ]
          },
          "metadata": {},
          "execution_count": 12
        }
      ]
    },
    {
      "cell_type": "markdown",
      "metadata": {
        "id": "frycJ6ZsAasB"
      },
      "source": [
        "visualizzare i titoli dei film prodotti dalla “Disney” e dalla “20th Century Fox”\n"
      ]
    },
    {
      "cell_type": "code",
      "metadata": {
        "colab": {
          "base_uri": "https://localhost:8080/",
          "height": 483
        },
        "id": "xp9QvrnPAeMJ",
        "outputId": "c5a03061-a284-4f8a-e090-85d6145ab538"
      },
      "source": [
        "movies.loc[(movies['Lead Studio'] == 'Disney') | (movies['Lead Studio'] == 'Fox')]"
      ],
      "execution_count": null,
      "outputs": [
        {
          "output_type": "execute_result",
          "data": {
            "text/html": [
              "<div>\n",
              "<style scoped>\n",
              "    .dataframe tbody tr th:only-of-type {\n",
              "        vertical-align: middle;\n",
              "    }\n",
              "\n",
              "    .dataframe tbody tr th {\n",
              "        vertical-align: top;\n",
              "    }\n",
              "\n",
              "    .dataframe thead th {\n",
              "        text-align: right;\n",
              "    }\n",
              "</style>\n",
              "<table border=\"1\" class=\"dataframe\">\n",
              "  <thead>\n",
              "    <tr style=\"text-align: right;\">\n",
              "      <th></th>\n",
              "      <th>Film</th>\n",
              "      <th>Genre</th>\n",
              "      <th>Lead Studio</th>\n",
              "      <th>Audience score %</th>\n",
              "      <th>Profitability</th>\n",
              "      <th>Rotten Tomatoes %</th>\n",
              "      <th>Worldwide Gross</th>\n",
              "      <th>Year</th>\n",
              "    </tr>\n",
              "  </thead>\n",
              "  <tbody>\n",
              "    <tr>\n",
              "      <th>3</th>\n",
              "      <td>When in Rome</td>\n",
              "      <td>Comedy</td>\n",
              "      <td>Disney</td>\n",
              "      <td>44</td>\n",
              "      <td>0.000000</td>\n",
              "      <td>15</td>\n",
              "      <td>$43.04</td>\n",
              "      <td>2010</td>\n",
              "    </tr>\n",
              "    <tr>\n",
              "      <th>4</th>\n",
              "      <td>What Happens in Vegas</td>\n",
              "      <td>Comedy</td>\n",
              "      <td>Fox</td>\n",
              "      <td>72</td>\n",
              "      <td>6.267647</td>\n",
              "      <td>28</td>\n",
              "      <td>$219.37</td>\n",
              "      <td>2008</td>\n",
              "    </tr>\n",
              "    <tr>\n",
              "      <th>6</th>\n",
              "      <td>WALL-E</td>\n",
              "      <td>Animation</td>\n",
              "      <td>Disney</td>\n",
              "      <td>89</td>\n",
              "      <td>2.896019</td>\n",
              "      <td>96</td>\n",
              "      <td>$521.28</td>\n",
              "      <td>2008</td>\n",
              "    </tr>\n",
              "    <tr>\n",
              "      <th>16</th>\n",
              "      <td>The Proposal</td>\n",
              "      <td>Comedy</td>\n",
              "      <td>Disney</td>\n",
              "      <td>74</td>\n",
              "      <td>7.867500</td>\n",
              "      <td>43</td>\n",
              "      <td>$314.70</td>\n",
              "      <td>2009</td>\n",
              "    </tr>\n",
              "    <tr>\n",
              "      <th>22</th>\n",
              "      <td>Tangled</td>\n",
              "      <td>Animation</td>\n",
              "      <td>Disney</td>\n",
              "      <td>88</td>\n",
              "      <td>1.365692</td>\n",
              "      <td>89</td>\n",
              "      <td>$355.01</td>\n",
              "      <td>2010</td>\n",
              "    </tr>\n",
              "    <tr>\n",
              "      <th>44</th>\n",
              "      <td>Marley and Me</td>\n",
              "      <td>Comedy</td>\n",
              "      <td>Fox</td>\n",
              "      <td>77</td>\n",
              "      <td>3.746782</td>\n",
              "      <td>63</td>\n",
              "      <td>$206.07</td>\n",
              "      <td>2008</td>\n",
              "    </tr>\n",
              "    <tr>\n",
              "      <th>49</th>\n",
              "      <td>Love &amp; Other Drugs</td>\n",
              "      <td>Comedy</td>\n",
              "      <td>Fox</td>\n",
              "      <td>55</td>\n",
              "      <td>1.817667</td>\n",
              "      <td>48</td>\n",
              "      <td>$54.53</td>\n",
              "      <td>2010</td>\n",
              "    </tr>\n",
              "    <tr>\n",
              "      <th>56</th>\n",
              "      <td>Just Wright</td>\n",
              "      <td>Comedy</td>\n",
              "      <td>Fox</td>\n",
              "      <td>58</td>\n",
              "      <td>1.797417</td>\n",
              "      <td>45</td>\n",
              "      <td>$21.57</td>\n",
              "      <td>2010</td>\n",
              "    </tr>\n",
              "    <tr>\n",
              "      <th>60</th>\n",
              "      <td>High School Musical 3: Senior Year</td>\n",
              "      <td>Comedy</td>\n",
              "      <td>Disney</td>\n",
              "      <td>76</td>\n",
              "      <td>22.913136</td>\n",
              "      <td>65</td>\n",
              "      <td>$252.04</td>\n",
              "      <td>2008</td>\n",
              "    </tr>\n",
              "    <tr>\n",
              "      <th>64</th>\n",
              "      <td>Gnomeo and Juliet</td>\n",
              "      <td>Animation</td>\n",
              "      <td>Disney</td>\n",
              "      <td>52</td>\n",
              "      <td>5.387972</td>\n",
              "      <td>56</td>\n",
              "      <td>$193.97</td>\n",
              "      <td>2011</td>\n",
              "    </tr>\n",
              "    <tr>\n",
              "      <th>65</th>\n",
              "      <td>Gnomeo and Juliet</td>\n",
              "      <td>Animation</td>\n",
              "      <td>Disney</td>\n",
              "      <td>52</td>\n",
              "      <td>5.387972</td>\n",
              "      <td>56</td>\n",
              "      <td>$193.97</td>\n",
              "      <td>2011</td>\n",
              "    </tr>\n",
              "    <tr>\n",
              "      <th>69</th>\n",
              "      <td>Enchanted</td>\n",
              "      <td>Comedy</td>\n",
              "      <td>Disney</td>\n",
              "      <td>80</td>\n",
              "      <td>4.005737</td>\n",
              "      <td>93</td>\n",
              "      <td>$340.49</td>\n",
              "      <td>2007</td>\n",
              "    </tr>\n",
              "    <tr>\n",
              "      <th>75</th>\n",
              "      <td>27 Dresses</td>\n",
              "      <td>Comedy</td>\n",
              "      <td>Fox</td>\n",
              "      <td>71</td>\n",
              "      <td>5.343622</td>\n",
              "      <td>40</td>\n",
              "      <td>$160.31</td>\n",
              "      <td>2008</td>\n",
              "    </tr>\n",
              "    <tr>\n",
              "      <th>76</th>\n",
              "      <td>(500) Days of Summer</td>\n",
              "      <td>comedy</td>\n",
              "      <td>Fox</td>\n",
              "      <td>81</td>\n",
              "      <td>8.096000</td>\n",
              "      <td>87</td>\n",
              "      <td>$60.72</td>\n",
              "      <td>2009</td>\n",
              "    </tr>\n",
              "  </tbody>\n",
              "</table>\n",
              "</div>"
            ],
            "text/plain": [
              "                                  Film      Genre  ... Worldwide Gross  Year\n",
              "3                         When in Rome     Comedy  ...         $43.04   2010\n",
              "4                What Happens in Vegas     Comedy  ...        $219.37   2008\n",
              "6                               WALL-E  Animation  ...        $521.28   2008\n",
              "16                        The Proposal     Comedy  ...        $314.70   2009\n",
              "22                             Tangled  Animation  ...        $355.01   2010\n",
              "44                       Marley and Me     Comedy  ...        $206.07   2008\n",
              "49                  Love & Other Drugs     Comedy  ...         $54.53   2010\n",
              "56                         Just Wright     Comedy  ...         $21.57   2010\n",
              "60  High School Musical 3: Senior Year     Comedy  ...        $252.04   2008\n",
              "64                   Gnomeo and Juliet  Animation  ...        $193.97   2011\n",
              "65                   Gnomeo and Juliet  Animation  ...        $193.97   2011\n",
              "69                           Enchanted     Comedy  ...        $340.49   2007\n",
              "75                          27 Dresses     Comedy  ...        $160.31   2008\n",
              "76                (500) Days of Summer     comedy  ...         $60.72   2009\n",
              "\n",
              "[14 rows x 8 columns]"
            ]
          },
          "metadata": {},
          "execution_count": 13
        }
      ]
    },
    {
      "cell_type": "markdown",
      "metadata": {
        "id": "2T7EIeYiClHJ"
      },
      "source": [
        "visualizzare i titoli dei film usciti dal 2005 al 2010\n"
      ]
    },
    {
      "cell_type": "code",
      "metadata": {
        "colab": {
          "base_uri": "https://localhost:8080/"
        },
        "id": "ad9lNapDCl7A",
        "outputId": "7a21f84d-86ae-4ee6-a5e4-d41122492731"
      },
      "source": [
        "movies.loc[(movies['Year'] >=2005) & (movies['Year'] <=2010)]['Film']"
      ],
      "execution_count": null,
      "outputs": [
        {
          "output_type": "execute_result",
          "data": {
            "text/plain": [
              "0             Zack and Miri Make a Porno\n",
              "1                        Youth in Revolt\n",
              "2     You Will Meet a Tall Dark Stranger\n",
              "3                           When in Rome\n",
              "4                  What Happens in Vegas\n",
              "                     ...                \n",
              "70                             Dear John\n",
              "72                   Across the Universe\n",
              "73                         A Serious Man\n",
              "75                            27 Dresses\n",
              "76                  (500) Days of Summer\n",
              "Name: Film, Length: 63, dtype: object"
            ]
          },
          "metadata": {},
          "execution_count": 14
        }
      ]
    },
    {
      "cell_type": "markdown",
      "metadata": {
        "id": "AtHWtJjqE7rZ"
      },
      "source": [
        "visualizzare i film (tutte le colonne) il cui titolo comincia con la lettera W\n"
      ]
    },
    {
      "cell_type": "code",
      "metadata": {
        "id": "KQsoTLZrFIAx",
        "colab": {
          "base_uri": "https://localhost:8080/"
        },
        "outputId": "419e3a82-f442-4f56-d184-bbceb0f51910"
      },
      "source": [
        "movies['Film'].str.startswith('W')"
      ],
      "execution_count": null,
      "outputs": [
        {
          "output_type": "execute_result",
          "data": {
            "text/plain": [
              "0     False\n",
              "1     False\n",
              "2     False\n",
              "3      True\n",
              "4      True\n",
              "      ...  \n",
              "72    False\n",
              "73    False\n",
              "74    False\n",
              "75    False\n",
              "76    False\n",
              "Name: Film, Length: 77, dtype: bool"
            ]
          },
          "metadata": {},
          "execution_count": 15
        }
      ]
    },
    {
      "cell_type": "markdown",
      "metadata": {
        "id": "K2qIGQBk-sR9"
      },
      "source": [
        "visualizzare l’ “Audience score %” medio dei film del genere “Drama”\n"
      ]
    },
    {
      "cell_type": "code",
      "metadata": {
        "id": "TGH_UXxn-sc7",
        "colab": {
          "base_uri": "https://localhost:8080/"
        },
        "outputId": "20019d1f-e6be-4f63-f9d4-4132278bcd5d"
      },
      "source": [
        "movies[movies['Genre'] == 'Drama']['Audience score %'].mean()"
      ],
      "execution_count": null,
      "outputs": [
        {
          "output_type": "execute_result",
          "data": {
            "text/plain": [
              "67.23076923076923"
            ]
          },
          "metadata": {},
          "execution_count": 17
        }
      ]
    },
    {
      "cell_type": "markdown",
      "metadata": {
        "id": "vMx-USqXAnLU"
      },
      "source": [
        "visualizzare il numero di film per ogni genere\n"
      ]
    },
    {
      "cell_type": "code",
      "metadata": {
        "id": "7NuEnTfBAnZ9",
        "colab": {
          "base_uri": "https://localhost:8080/"
        },
        "outputId": "2131a635-2cb7-441b-bdc7-b0fe0fd85b1e"
      },
      "source": [
        "movies.groupby(['Genre'])['Film'].count()"
      ],
      "execution_count": null,
      "outputs": [
        {
          "output_type": "execute_result",
          "data": {
            "text/plain": [
              "Genre\n",
              "Action        1\n",
              "Animation     4\n",
              "Comdy         1\n",
              "Comedy       41\n",
              "Drama        13\n",
              "Fantasy       1\n",
              "Romance      13\n",
              "Romence       1\n",
              "comedy        1\n",
              "romance       1\n",
              "Name: Film, dtype: int64"
            ]
          },
          "metadata": {},
          "execution_count": 23
        }
      ]
    },
    {
      "cell_type": "markdown",
      "metadata": {
        "id": "yl_f4tDvAnhj"
      },
      "source": [
        "diminuire del 10% il valore delle recensioni presenti nel campo “Audience score %”\n"
      ]
    },
    {
      "cell_type": "code",
      "metadata": {
        "id": "SgmtXH7hAnoB",
        "colab": {
          "base_uri": "https://localhost:8080/"
        },
        "outputId": "d43f0549-5807-409b-e13c-7ff01308f3d1"
      },
      "source": [
        "movies['Audience score %'].apply(lambda x: x-10)"
      ],
      "execution_count": null,
      "outputs": [
        {
          "output_type": "execute_result",
          "data": {
            "text/plain": [
              "0     60\n",
              "1     42\n",
              "2     25\n",
              "3     34\n",
              "4     62\n",
              "      ..\n",
              "72    74\n",
              "73    54\n",
              "74    79\n",
              "75    61\n",
              "76    71\n",
              "Name: Audience score %, Length: 77, dtype: int64"
            ]
          },
          "metadata": {},
          "execution_count": 18
        }
      ]
    },
    {
      "cell_type": "markdown",
      "metadata": {
        "id": "-jdxHeFIAw4T"
      },
      "source": [
        "B"
      ]
    },
    {
      "cell_type": "markdown",
      "metadata": {
        "id": "R7LkQSFRAx2W"
      },
      "source": [
        "visualizzare le prime 12 righe del dataframe\n"
      ]
    },
    {
      "cell_type": "code",
      "metadata": {
        "colab": {
          "base_uri": "https://localhost:8080/",
          "height": 421
        },
        "id": "iOQ6h199AxYl",
        "outputId": "1f679e5b-bb86-48b8-aa9e-a2d83dddd1a2"
      },
      "source": [
        "movies.head(12)"
      ],
      "execution_count": null,
      "outputs": [
        {
          "output_type": "execute_result",
          "data": {
            "text/html": [
              "<div>\n",
              "<style scoped>\n",
              "    .dataframe tbody tr th:only-of-type {\n",
              "        vertical-align: middle;\n",
              "    }\n",
              "\n",
              "    .dataframe tbody tr th {\n",
              "        vertical-align: top;\n",
              "    }\n",
              "\n",
              "    .dataframe thead th {\n",
              "        text-align: right;\n",
              "    }\n",
              "</style>\n",
              "<table border=\"1\" class=\"dataframe\">\n",
              "  <thead>\n",
              "    <tr style=\"text-align: right;\">\n",
              "      <th></th>\n",
              "      <th>Film</th>\n",
              "      <th>Genre</th>\n",
              "      <th>Lead Studio</th>\n",
              "      <th>Audience score %</th>\n",
              "      <th>Profitability</th>\n",
              "      <th>Rotten Tomatoes %</th>\n",
              "      <th>Worldwide Gross</th>\n",
              "      <th>Year</th>\n",
              "    </tr>\n",
              "  </thead>\n",
              "  <tbody>\n",
              "    <tr>\n",
              "      <th>0</th>\n",
              "      <td>Zack and Miri Make a Porno</td>\n",
              "      <td>Romance</td>\n",
              "      <td>The Weinstein Company</td>\n",
              "      <td>70</td>\n",
              "      <td>1.747542</td>\n",
              "      <td>64</td>\n",
              "      <td>$41.94</td>\n",
              "      <td>2008</td>\n",
              "    </tr>\n",
              "    <tr>\n",
              "      <th>1</th>\n",
              "      <td>Youth in Revolt</td>\n",
              "      <td>Comedy</td>\n",
              "      <td>The Weinstein Company</td>\n",
              "      <td>52</td>\n",
              "      <td>1.090000</td>\n",
              "      <td>68</td>\n",
              "      <td>$19.62</td>\n",
              "      <td>2010</td>\n",
              "    </tr>\n",
              "    <tr>\n",
              "      <th>2</th>\n",
              "      <td>You Will Meet a Tall Dark Stranger</td>\n",
              "      <td>Comedy</td>\n",
              "      <td>Independent</td>\n",
              "      <td>35</td>\n",
              "      <td>1.211818</td>\n",
              "      <td>43</td>\n",
              "      <td>$26.66</td>\n",
              "      <td>2010</td>\n",
              "    </tr>\n",
              "    <tr>\n",
              "      <th>3</th>\n",
              "      <td>When in Rome</td>\n",
              "      <td>Comedy</td>\n",
              "      <td>Disney</td>\n",
              "      <td>44</td>\n",
              "      <td>0.000000</td>\n",
              "      <td>15</td>\n",
              "      <td>$43.04</td>\n",
              "      <td>2010</td>\n",
              "    </tr>\n",
              "    <tr>\n",
              "      <th>4</th>\n",
              "      <td>What Happens in Vegas</td>\n",
              "      <td>Comedy</td>\n",
              "      <td>Fox</td>\n",
              "      <td>72</td>\n",
              "      <td>6.267647</td>\n",
              "      <td>28</td>\n",
              "      <td>$219.37</td>\n",
              "      <td>2008</td>\n",
              "    </tr>\n",
              "    <tr>\n",
              "      <th>5</th>\n",
              "      <td>Water For Elephants</td>\n",
              "      <td>Drama</td>\n",
              "      <td>20th Century Fox</td>\n",
              "      <td>72</td>\n",
              "      <td>3.081421</td>\n",
              "      <td>60</td>\n",
              "      <td>$117.09</td>\n",
              "      <td>2011</td>\n",
              "    </tr>\n",
              "    <tr>\n",
              "      <th>6</th>\n",
              "      <td>WALL-E</td>\n",
              "      <td>Animation</td>\n",
              "      <td>Disney</td>\n",
              "      <td>89</td>\n",
              "      <td>2.896019</td>\n",
              "      <td>96</td>\n",
              "      <td>$521.28</td>\n",
              "      <td>2008</td>\n",
              "    </tr>\n",
              "    <tr>\n",
              "      <th>7</th>\n",
              "      <td>Waitress</td>\n",
              "      <td>Romance</td>\n",
              "      <td>Independent</td>\n",
              "      <td>67</td>\n",
              "      <td>11.089741</td>\n",
              "      <td>89</td>\n",
              "      <td>$22.18</td>\n",
              "      <td>2007</td>\n",
              "    </tr>\n",
              "    <tr>\n",
              "      <th>8</th>\n",
              "      <td>Waiting For Forever</td>\n",
              "      <td>Romance</td>\n",
              "      <td>Independent</td>\n",
              "      <td>53</td>\n",
              "      <td>0.005000</td>\n",
              "      <td>6</td>\n",
              "      <td>$0.03</td>\n",
              "      <td>2011</td>\n",
              "    </tr>\n",
              "    <tr>\n",
              "      <th>9</th>\n",
              "      <td>Valentine's Day</td>\n",
              "      <td>Comedy</td>\n",
              "      <td>Warner Bros.</td>\n",
              "      <td>54</td>\n",
              "      <td>4.184038</td>\n",
              "      <td>17</td>\n",
              "      <td>$217.57</td>\n",
              "      <td>2010</td>\n",
              "    </tr>\n",
              "    <tr>\n",
              "      <th>10</th>\n",
              "      <td>Tyler Perry's Why Did I get Married</td>\n",
              "      <td>Romance</td>\n",
              "      <td>Independent</td>\n",
              "      <td>47</td>\n",
              "      <td>3.724192</td>\n",
              "      <td>46</td>\n",
              "      <td>$55.86</td>\n",
              "      <td>2007</td>\n",
              "    </tr>\n",
              "    <tr>\n",
              "      <th>11</th>\n",
              "      <td>Twilight: Breaking Dawn</td>\n",
              "      <td>Romance</td>\n",
              "      <td>Independent</td>\n",
              "      <td>68</td>\n",
              "      <td>6.383364</td>\n",
              "      <td>26</td>\n",
              "      <td>$702.17</td>\n",
              "      <td>2011</td>\n",
              "    </tr>\n",
              "  </tbody>\n",
              "</table>\n",
              "</div>"
            ],
            "text/plain": [
              "                                   Film      Genre  ... Worldwide Gross  Year\n",
              "0            Zack and Miri Make a Porno    Romance  ...         $41.94   2008\n",
              "1                       Youth in Revolt     Comedy  ...         $19.62   2010\n",
              "2    You Will Meet a Tall Dark Stranger     Comedy  ...         $26.66   2010\n",
              "3                          When in Rome     Comedy  ...         $43.04   2010\n",
              "4                 What Happens in Vegas     Comedy  ...        $219.37   2008\n",
              "5                   Water For Elephants      Drama  ...        $117.09   2011\n",
              "6                                WALL-E  Animation  ...        $521.28   2008\n",
              "7                              Waitress    Romance  ...         $22.18   2007\n",
              "8                   Waiting For Forever    Romance  ...          $0.03   2011\n",
              "9                       Valentine's Day     Comedy  ...        $217.57   2010\n",
              "10  Tyler Perry's Why Did I get Married    Romance  ...         $55.86   2007\n",
              "11              Twilight: Breaking Dawn    Romance  ...        $702.17   2011\n",
              "\n",
              "[12 rows x 8 columns]"
            ]
          },
          "metadata": {},
          "execution_count": 8
        }
      ]
    },
    {
      "cell_type": "markdown",
      "metadata": {
        "id": "6k9RvEivA9WB"
      },
      "source": [
        "visualizzare le colonne 3, 4, 5 e 6\n"
      ]
    },
    {
      "cell_type": "code",
      "metadata": {
        "colab": {
          "base_uri": "https://localhost:8080/",
          "height": 419
        },
        "id": "PGnbD11iA9lv",
        "outputId": "2bdabbe9-c229-4fbc-e0d3-c7b6601e697b"
      },
      "source": [
        "movies.iloc[1:-1, [3,4,5,6]]"
      ],
      "execution_count": null,
      "outputs": [
        {
          "output_type": "execute_result",
          "data": {
            "text/html": [
              "<div>\n",
              "<style scoped>\n",
              "    .dataframe tbody tr th:only-of-type {\n",
              "        vertical-align: middle;\n",
              "    }\n",
              "\n",
              "    .dataframe tbody tr th {\n",
              "        vertical-align: top;\n",
              "    }\n",
              "\n",
              "    .dataframe thead th {\n",
              "        text-align: right;\n",
              "    }\n",
              "</style>\n",
              "<table border=\"1\" class=\"dataframe\">\n",
              "  <thead>\n",
              "    <tr style=\"text-align: right;\">\n",
              "      <th></th>\n",
              "      <th>Audience score %</th>\n",
              "      <th>Profitability</th>\n",
              "      <th>Rotten Tomatoes %</th>\n",
              "      <th>Worldwide Gross</th>\n",
              "    </tr>\n",
              "  </thead>\n",
              "  <tbody>\n",
              "    <tr>\n",
              "      <th>1</th>\n",
              "      <td>52</td>\n",
              "      <td>1.090000</td>\n",
              "      <td>68</td>\n",
              "      <td>$19.62</td>\n",
              "    </tr>\n",
              "    <tr>\n",
              "      <th>2</th>\n",
              "      <td>35</td>\n",
              "      <td>1.211818</td>\n",
              "      <td>43</td>\n",
              "      <td>$26.66</td>\n",
              "    </tr>\n",
              "    <tr>\n",
              "      <th>3</th>\n",
              "      <td>44</td>\n",
              "      <td>0.000000</td>\n",
              "      <td>15</td>\n",
              "      <td>$43.04</td>\n",
              "    </tr>\n",
              "    <tr>\n",
              "      <th>4</th>\n",
              "      <td>72</td>\n",
              "      <td>6.267647</td>\n",
              "      <td>28</td>\n",
              "      <td>$219.37</td>\n",
              "    </tr>\n",
              "    <tr>\n",
              "      <th>5</th>\n",
              "      <td>72</td>\n",
              "      <td>3.081421</td>\n",
              "      <td>60</td>\n",
              "      <td>$117.09</td>\n",
              "    </tr>\n",
              "    <tr>\n",
              "      <th>...</th>\n",
              "      <td>...</td>\n",
              "      <td>...</td>\n",
              "      <td>...</td>\n",
              "      <td>...</td>\n",
              "    </tr>\n",
              "    <tr>\n",
              "      <th>71</th>\n",
              "      <td>80</td>\n",
              "      <td>4.471875</td>\n",
              "      <td>84</td>\n",
              "      <td>$14.31</td>\n",
              "    </tr>\n",
              "    <tr>\n",
              "      <th>72</th>\n",
              "      <td>84</td>\n",
              "      <td>0.652603</td>\n",
              "      <td>54</td>\n",
              "      <td>$29.37</td>\n",
              "    </tr>\n",
              "    <tr>\n",
              "      <th>73</th>\n",
              "      <td>64</td>\n",
              "      <td>4.382857</td>\n",
              "      <td>89</td>\n",
              "      <td>$30.68</td>\n",
              "    </tr>\n",
              "    <tr>\n",
              "      <th>74</th>\n",
              "      <td>89</td>\n",
              "      <td>0.448645</td>\n",
              "      <td>79</td>\n",
              "      <td>$8.97</td>\n",
              "    </tr>\n",
              "    <tr>\n",
              "      <th>75</th>\n",
              "      <td>71</td>\n",
              "      <td>5.343622</td>\n",
              "      <td>40</td>\n",
              "      <td>$160.31</td>\n",
              "    </tr>\n",
              "  </tbody>\n",
              "</table>\n",
              "<p>75 rows × 4 columns</p>\n",
              "</div>"
            ],
            "text/plain": [
              "    Audience score %  Profitability  Rotten Tomatoes % Worldwide Gross\n",
              "1                 52       1.090000                 68         $19.62 \n",
              "2                 35       1.211818                 43         $26.66 \n",
              "3                 44       0.000000                 15         $43.04 \n",
              "4                 72       6.267647                 28        $219.37 \n",
              "5                 72       3.081421                 60        $117.09 \n",
              "..               ...            ...                ...             ...\n",
              "71                80       4.471875                 84         $14.31 \n",
              "72                84       0.652603                 54         $29.37 \n",
              "73                64       4.382857                 89         $30.68 \n",
              "74                89       0.448645                 79          $8.97 \n",
              "75                71       5.343622                 40        $160.31 \n",
              "\n",
              "[75 rows x 4 columns]"
            ]
          },
          "metadata": {},
          "execution_count": 24
        }
      ]
    },
    {
      "cell_type": "markdown",
      "metadata": {
        "id": "ZQzz-6XcCfH_"
      },
      "source": [
        "visualizzare le righe del dataframe che si trovano dalla decima alla trentesima posizione\n"
      ]
    },
    {
      "cell_type": "code",
      "metadata": {
        "colab": {
          "base_uri": "https://localhost:8080/",
          "height": 700
        },
        "id": "nuLsl2v9CfN-",
        "outputId": "d548a742-7dee-42bb-8ac3-08d436c73c41"
      },
      "source": [
        "movies.loc[10:30]"
      ],
      "execution_count": null,
      "outputs": [
        {
          "output_type": "execute_result",
          "data": {
            "text/html": [
              "<div>\n",
              "<style scoped>\n",
              "    .dataframe tbody tr th:only-of-type {\n",
              "        vertical-align: middle;\n",
              "    }\n",
              "\n",
              "    .dataframe tbody tr th {\n",
              "        vertical-align: top;\n",
              "    }\n",
              "\n",
              "    .dataframe thead th {\n",
              "        text-align: right;\n",
              "    }\n",
              "</style>\n",
              "<table border=\"1\" class=\"dataframe\">\n",
              "  <thead>\n",
              "    <tr style=\"text-align: right;\">\n",
              "      <th></th>\n",
              "      <th>Film</th>\n",
              "      <th>Genre</th>\n",
              "      <th>Lead Studio</th>\n",
              "      <th>Audience score %</th>\n",
              "      <th>Profitability</th>\n",
              "      <th>Rotten Tomatoes %</th>\n",
              "      <th>Worldwide Gross</th>\n",
              "      <th>Year</th>\n",
              "    </tr>\n",
              "  </thead>\n",
              "  <tbody>\n",
              "    <tr>\n",
              "      <th>10</th>\n",
              "      <td>Tyler Perry's Why Did I get Married</td>\n",
              "      <td>Romance</td>\n",
              "      <td>Independent</td>\n",
              "      <td>47</td>\n",
              "      <td>3.724192</td>\n",
              "      <td>46</td>\n",
              "      <td>$55.86</td>\n",
              "      <td>2007</td>\n",
              "    </tr>\n",
              "    <tr>\n",
              "      <th>11</th>\n",
              "      <td>Twilight: Breaking Dawn</td>\n",
              "      <td>Romance</td>\n",
              "      <td>Independent</td>\n",
              "      <td>68</td>\n",
              "      <td>6.383364</td>\n",
              "      <td>26</td>\n",
              "      <td>$702.17</td>\n",
              "      <td>2011</td>\n",
              "    </tr>\n",
              "    <tr>\n",
              "      <th>12</th>\n",
              "      <td>Twilight</td>\n",
              "      <td>Romance</td>\n",
              "      <td>Summit</td>\n",
              "      <td>82</td>\n",
              "      <td>10.180027</td>\n",
              "      <td>49</td>\n",
              "      <td>$376.66</td>\n",
              "      <td>2008</td>\n",
              "    </tr>\n",
              "    <tr>\n",
              "      <th>13</th>\n",
              "      <td>The Ugly Truth</td>\n",
              "      <td>Comedy</td>\n",
              "      <td>Independent</td>\n",
              "      <td>68</td>\n",
              "      <td>5.402632</td>\n",
              "      <td>14</td>\n",
              "      <td>$205.30</td>\n",
              "      <td>2009</td>\n",
              "    </tr>\n",
              "    <tr>\n",
              "      <th>14</th>\n",
              "      <td>The Twilight Saga: New Moon</td>\n",
              "      <td>Drama</td>\n",
              "      <td>Summit</td>\n",
              "      <td>78</td>\n",
              "      <td>14.196400</td>\n",
              "      <td>27</td>\n",
              "      <td>$709.82</td>\n",
              "      <td>2009</td>\n",
              "    </tr>\n",
              "    <tr>\n",
              "      <th>15</th>\n",
              "      <td>The Time Traveler's Wife</td>\n",
              "      <td>Drama</td>\n",
              "      <td>Paramount</td>\n",
              "      <td>65</td>\n",
              "      <td>2.598205</td>\n",
              "      <td>38</td>\n",
              "      <td>$101.33</td>\n",
              "      <td>2009</td>\n",
              "    </tr>\n",
              "    <tr>\n",
              "      <th>16</th>\n",
              "      <td>The Proposal</td>\n",
              "      <td>Comedy</td>\n",
              "      <td>Disney</td>\n",
              "      <td>74</td>\n",
              "      <td>7.867500</td>\n",
              "      <td>43</td>\n",
              "      <td>$314.70</td>\n",
              "      <td>2009</td>\n",
              "    </tr>\n",
              "    <tr>\n",
              "      <th>17</th>\n",
              "      <td>The Invention of Lying</td>\n",
              "      <td>Comedy</td>\n",
              "      <td>Warner Bros.</td>\n",
              "      <td>47</td>\n",
              "      <td>1.751351</td>\n",
              "      <td>56</td>\n",
              "      <td>$32.40</td>\n",
              "      <td>2009</td>\n",
              "    </tr>\n",
              "    <tr>\n",
              "      <th>18</th>\n",
              "      <td>The Heartbreak Kid</td>\n",
              "      <td>Comedy</td>\n",
              "      <td>Paramount</td>\n",
              "      <td>41</td>\n",
              "      <td>2.129444</td>\n",
              "      <td>30</td>\n",
              "      <td>$127.77</td>\n",
              "      <td>2007</td>\n",
              "    </tr>\n",
              "    <tr>\n",
              "      <th>19</th>\n",
              "      <td>The Duchess</td>\n",
              "      <td>Drama</td>\n",
              "      <td>Paramount</td>\n",
              "      <td>68</td>\n",
              "      <td>3.207850</td>\n",
              "      <td>60</td>\n",
              "      <td>$43.31</td>\n",
              "      <td>2008</td>\n",
              "    </tr>\n",
              "    <tr>\n",
              "      <th>20</th>\n",
              "      <td>The Curious Case of Benjamin Button</td>\n",
              "      <td>Fantasy</td>\n",
              "      <td>Warner Bros.</td>\n",
              "      <td>81</td>\n",
              "      <td>1.783944</td>\n",
              "      <td>73</td>\n",
              "      <td>$285.43</td>\n",
              "      <td>2008</td>\n",
              "    </tr>\n",
              "    <tr>\n",
              "      <th>21</th>\n",
              "      <td>The Back-up Plan</td>\n",
              "      <td>Comedy</td>\n",
              "      <td>CBS</td>\n",
              "      <td>47</td>\n",
              "      <td>2.202571</td>\n",
              "      <td>20</td>\n",
              "      <td>$77.09</td>\n",
              "      <td>2010</td>\n",
              "    </tr>\n",
              "    <tr>\n",
              "      <th>22</th>\n",
              "      <td>Tangled</td>\n",
              "      <td>Animation</td>\n",
              "      <td>Disney</td>\n",
              "      <td>88</td>\n",
              "      <td>1.365692</td>\n",
              "      <td>89</td>\n",
              "      <td>$355.01</td>\n",
              "      <td>2010</td>\n",
              "    </tr>\n",
              "    <tr>\n",
              "      <th>23</th>\n",
              "      <td>Something Borrowed</td>\n",
              "      <td>Romance</td>\n",
              "      <td>Independent</td>\n",
              "      <td>48</td>\n",
              "      <td>1.719514</td>\n",
              "      <td>15</td>\n",
              "      <td>$60.18</td>\n",
              "      <td>2011</td>\n",
              "    </tr>\n",
              "    <tr>\n",
              "      <th>24</th>\n",
              "      <td>She's Out of My League</td>\n",
              "      <td>Comedy</td>\n",
              "      <td>Paramount</td>\n",
              "      <td>60</td>\n",
              "      <td>2.440500</td>\n",
              "      <td>57</td>\n",
              "      <td>$48.81</td>\n",
              "      <td>2010</td>\n",
              "    </tr>\n",
              "    <tr>\n",
              "      <th>25</th>\n",
              "      <td>Sex and the City Two</td>\n",
              "      <td>Comedy</td>\n",
              "      <td>Warner Bros.</td>\n",
              "      <td>49</td>\n",
              "      <td>2.883500</td>\n",
              "      <td>15</td>\n",
              "      <td>$288.35</td>\n",
              "      <td>2010</td>\n",
              "    </tr>\n",
              "    <tr>\n",
              "      <th>26</th>\n",
              "      <td>Sex and the City 2</td>\n",
              "      <td>Comedy</td>\n",
              "      <td>Warner Bros.</td>\n",
              "      <td>49</td>\n",
              "      <td>2.883500</td>\n",
              "      <td>15</td>\n",
              "      <td>$288.35</td>\n",
              "      <td>2010</td>\n",
              "    </tr>\n",
              "    <tr>\n",
              "      <th>27</th>\n",
              "      <td>Sex and the City</td>\n",
              "      <td>Comedy</td>\n",
              "      <td>Warner Bros.</td>\n",
              "      <td>81</td>\n",
              "      <td>7.221796</td>\n",
              "      <td>49</td>\n",
              "      <td>$415.25</td>\n",
              "      <td>2008</td>\n",
              "    </tr>\n",
              "    <tr>\n",
              "      <th>28</th>\n",
              "      <td>Remember Me</td>\n",
              "      <td>Drama</td>\n",
              "      <td>Summit</td>\n",
              "      <td>70</td>\n",
              "      <td>3.491250</td>\n",
              "      <td>28</td>\n",
              "      <td>$55.86</td>\n",
              "      <td>2010</td>\n",
              "    </tr>\n",
              "    <tr>\n",
              "      <th>29</th>\n",
              "      <td>Rachel Getting Married</td>\n",
              "      <td>Drama</td>\n",
              "      <td>Independent</td>\n",
              "      <td>61</td>\n",
              "      <td>1.384167</td>\n",
              "      <td>85</td>\n",
              "      <td>$16.61</td>\n",
              "      <td>2008</td>\n",
              "    </tr>\n",
              "    <tr>\n",
              "      <th>30</th>\n",
              "      <td>Penelope</td>\n",
              "      <td>Comedy</td>\n",
              "      <td>Summit</td>\n",
              "      <td>74</td>\n",
              "      <td>1.382800</td>\n",
              "      <td>52</td>\n",
              "      <td>$20.74</td>\n",
              "      <td>2008</td>\n",
              "    </tr>\n",
              "  </tbody>\n",
              "</table>\n",
              "</div>"
            ],
            "text/plain": [
              "                                   Film      Genre  ... Worldwide Gross  Year\n",
              "10  Tyler Perry's Why Did I get Married    Romance  ...         $55.86   2007\n",
              "11              Twilight: Breaking Dawn    Romance  ...        $702.17   2011\n",
              "12                             Twilight    Romance  ...        $376.66   2008\n",
              "13                       The Ugly Truth     Comedy  ...        $205.30   2009\n",
              "14          The Twilight Saga: New Moon      Drama  ...        $709.82   2009\n",
              "15             The Time Traveler's Wife      Drama  ...        $101.33   2009\n",
              "16                         The Proposal     Comedy  ...        $314.70   2009\n",
              "17               The Invention of Lying     Comedy  ...         $32.40   2009\n",
              "18                   The Heartbreak Kid     Comedy  ...        $127.77   2007\n",
              "19                          The Duchess      Drama  ...         $43.31   2008\n",
              "20  The Curious Case of Benjamin Button    Fantasy  ...        $285.43   2008\n",
              "21                     The Back-up Plan     Comedy  ...         $77.09   2010\n",
              "22                              Tangled  Animation  ...        $355.01   2010\n",
              "23                   Something Borrowed    Romance  ...         $60.18   2011\n",
              "24               She's Out of My League     Comedy  ...         $48.81   2010\n",
              "25                 Sex and the City Two     Comedy  ...        $288.35   2010\n",
              "26                   Sex and the City 2     Comedy  ...        $288.35   2010\n",
              "27                     Sex and the City     Comedy  ...        $415.25   2008\n",
              "28                          Remember Me      Drama  ...         $55.86   2010\n",
              "29               Rachel Getting Married      Drama  ...         $16.61   2008\n",
              "30                             Penelope     Comedy  ...         $20.74   2008\n",
              "\n",
              "[21 rows x 8 columns]"
            ]
          },
          "metadata": {},
          "execution_count": 21
        }
      ]
    },
    {
      "cell_type": "markdown",
      "metadata": {
        "id": "JGU_vkvxCz7R"
      },
      "source": [
        "visualizzare il genere e lo studio dei film che si trovano dalla decima alla ventesima posizione\n"
      ]
    },
    {
      "cell_type": "code",
      "metadata": {
        "id": "mbAWTKNtC0Dw"
      },
      "source": [
        "movies.loc[10:20,['Genre','Lead Studio']]"
      ],
      "execution_count": null,
      "outputs": []
    },
    {
      "cell_type": "markdown",
      "metadata": {
        "id": "k32-Q6Q6c-oK"
      },
      "source": [
        "visualizzare le informazioni del film “When in Rome”\n",
        "\n",
        "\n"
      ]
    },
    {
      "cell_type": "code",
      "metadata": {
        "colab": {
          "base_uri": "https://localhost:8080/",
          "height": 80
        },
        "id": "wC8RJ9Q6c-v5",
        "outputId": "f8338d98-d240-42ff-eefc-bd67243965fe"
      },
      "source": [
        "movies[(movies['Film'] == 'When in Rome')]"
      ],
      "execution_count": null,
      "outputs": [
        {
          "output_type": "execute_result",
          "data": {
            "text/html": [
              "<div>\n",
              "<style scoped>\n",
              "    .dataframe tbody tr th:only-of-type {\n",
              "        vertical-align: middle;\n",
              "    }\n",
              "\n",
              "    .dataframe tbody tr th {\n",
              "        vertical-align: top;\n",
              "    }\n",
              "\n",
              "    .dataframe thead th {\n",
              "        text-align: right;\n",
              "    }\n",
              "</style>\n",
              "<table border=\"1\" class=\"dataframe\">\n",
              "  <thead>\n",
              "    <tr style=\"text-align: right;\">\n",
              "      <th></th>\n",
              "      <th>Film</th>\n",
              "      <th>Genre</th>\n",
              "      <th>Lead Studio</th>\n",
              "      <th>Audience score %</th>\n",
              "      <th>Profitability</th>\n",
              "      <th>Rotten Tomatoes %</th>\n",
              "      <th>Worldwide Gross</th>\n",
              "      <th>Year</th>\n",
              "    </tr>\n",
              "  </thead>\n",
              "  <tbody>\n",
              "    <tr>\n",
              "      <th>3</th>\n",
              "      <td>When in Rome</td>\n",
              "      <td>Comedy</td>\n",
              "      <td>Disney</td>\n",
              "      <td>44</td>\n",
              "      <td>0.0</td>\n",
              "      <td>15</td>\n",
              "      <td>$43.04</td>\n",
              "      <td>2010</td>\n",
              "    </tr>\n",
              "  </tbody>\n",
              "</table>\n",
              "</div>"
            ],
            "text/plain": [
              "           Film   Genre Lead Studio  ...  Rotten Tomatoes %  Worldwide Gross  Year\n",
              "3  When in Rome  Comedy      Disney  ...                 15          $43.04   2010\n",
              "\n",
              "[1 rows x 8 columns]"
            ]
          },
          "metadata": {},
          "execution_count": 6
        }
      ]
    },
    {
      "cell_type": "markdown",
      "metadata": {
        "id": "rtMzsXMfd0ZC"
      },
      "source": [
        "visualizzare  le informazioni dei film “When in Rome”, “Waitress” e “WALL-E”\n"
      ]
    },
    {
      "cell_type": "code",
      "metadata": {
        "colab": {
          "base_uri": "https://localhost:8080/",
          "height": 142
        },
        "id": "bzLg7FWzd0hj",
        "outputId": "849004f6-c027-4265-ddf2-ff551efa52f2"
      },
      "source": [
        "movies[(movies['Film'] == 'When in Rome') | (movies['Film'] == 'Waitress') | (movies['Film'] == 'WALL-E')]"
      ],
      "execution_count": null,
      "outputs": [
        {
          "output_type": "execute_result",
          "data": {
            "text/html": [
              "<div>\n",
              "<style scoped>\n",
              "    .dataframe tbody tr th:only-of-type {\n",
              "        vertical-align: middle;\n",
              "    }\n",
              "\n",
              "    .dataframe tbody tr th {\n",
              "        vertical-align: top;\n",
              "    }\n",
              "\n",
              "    .dataframe thead th {\n",
              "        text-align: right;\n",
              "    }\n",
              "</style>\n",
              "<table border=\"1\" class=\"dataframe\">\n",
              "  <thead>\n",
              "    <tr style=\"text-align: right;\">\n",
              "      <th></th>\n",
              "      <th>Film</th>\n",
              "      <th>Genre</th>\n",
              "      <th>Lead Studio</th>\n",
              "      <th>Audience score %</th>\n",
              "      <th>Profitability</th>\n",
              "      <th>Rotten Tomatoes %</th>\n",
              "      <th>Worldwide Gross</th>\n",
              "      <th>Year</th>\n",
              "    </tr>\n",
              "  </thead>\n",
              "  <tbody>\n",
              "    <tr>\n",
              "      <th>3</th>\n",
              "      <td>When in Rome</td>\n",
              "      <td>Comedy</td>\n",
              "      <td>Disney</td>\n",
              "      <td>44</td>\n",
              "      <td>0.000000</td>\n",
              "      <td>15</td>\n",
              "      <td>$43.04</td>\n",
              "      <td>2010</td>\n",
              "    </tr>\n",
              "    <tr>\n",
              "      <th>6</th>\n",
              "      <td>WALL-E</td>\n",
              "      <td>Animation</td>\n",
              "      <td>Disney</td>\n",
              "      <td>89</td>\n",
              "      <td>2.896019</td>\n",
              "      <td>96</td>\n",
              "      <td>$521.28</td>\n",
              "      <td>2008</td>\n",
              "    </tr>\n",
              "    <tr>\n",
              "      <th>7</th>\n",
              "      <td>Waitress</td>\n",
              "      <td>Romance</td>\n",
              "      <td>Independent</td>\n",
              "      <td>67</td>\n",
              "      <td>11.089741</td>\n",
              "      <td>89</td>\n",
              "      <td>$22.18</td>\n",
              "      <td>2007</td>\n",
              "    </tr>\n",
              "  </tbody>\n",
              "</table>\n",
              "</div>"
            ],
            "text/plain": [
              "           Film      Genre  ... Worldwide Gross  Year\n",
              "3  When in Rome     Comedy  ...         $43.04   2010\n",
              "6        WALL-E  Animation  ...        $521.28   2008\n",
              "7      Waitress    Romance  ...         $22.18   2007\n",
              "\n",
              "[3 rows x 8 columns]"
            ]
          },
          "metadata": {},
          "execution_count": 16
        }
      ]
    },
    {
      "cell_type": "markdown",
      "metadata": {
        "id": "lxTkee_8fl4P"
      },
      "source": [
        "visualizzare i titoli dei film che hanno avuto una recensione di Rotten Tomatoes compresa tra 80 e 90\n"
      ]
    },
    {
      "cell_type": "code",
      "metadata": {
        "colab": {
          "base_uri": "https://localhost:8080/",
          "height": 297
        },
        "id": "EQeJY7HGfmFH",
        "outputId": "4a463c95-c7bd-448c-96a5-e1f635cd300d"
      },
      "source": [
        "movies.loc[(movies['Rotten Tomatoes %'] >= 80) & (movies['Rotten Tomatoes %'] <=90)]"
      ],
      "execution_count": null,
      "outputs": [
        {
          "output_type": "execute_result",
          "data": {
            "text/html": [
              "<div>\n",
              "<style scoped>\n",
              "    .dataframe tbody tr th:only-of-type {\n",
              "        vertical-align: middle;\n",
              "    }\n",
              "\n",
              "    .dataframe tbody tr th {\n",
              "        vertical-align: top;\n",
              "    }\n",
              "\n",
              "    .dataframe thead th {\n",
              "        text-align: right;\n",
              "    }\n",
              "</style>\n",
              "<table border=\"1\" class=\"dataframe\">\n",
              "  <thead>\n",
              "    <tr style=\"text-align: right;\">\n",
              "      <th></th>\n",
              "      <th>Film</th>\n",
              "      <th>Genre</th>\n",
              "      <th>Lead Studio</th>\n",
              "      <th>Audience score %</th>\n",
              "      <th>Profitability</th>\n",
              "      <th>Rotten Tomatoes %</th>\n",
              "      <th>Worldwide Gross</th>\n",
              "      <th>Year</th>\n",
              "    </tr>\n",
              "  </thead>\n",
              "  <tbody>\n",
              "    <tr>\n",
              "      <th>7</th>\n",
              "      <td>Waitress</td>\n",
              "      <td>Romance</td>\n",
              "      <td>Independent</td>\n",
              "      <td>67</td>\n",
              "      <td>11.089741</td>\n",
              "      <td>89</td>\n",
              "      <td>$22.18</td>\n",
              "      <td>2007</td>\n",
              "    </tr>\n",
              "    <tr>\n",
              "      <th>22</th>\n",
              "      <td>Tangled</td>\n",
              "      <td>Animation</td>\n",
              "      <td>Disney</td>\n",
              "      <td>88</td>\n",
              "      <td>1.365692</td>\n",
              "      <td>89</td>\n",
              "      <td>$355.01</td>\n",
              "      <td>2010</td>\n",
              "    </tr>\n",
              "    <tr>\n",
              "      <th>29</th>\n",
              "      <td>Rachel Getting Married</td>\n",
              "      <td>Drama</td>\n",
              "      <td>Independent</td>\n",
              "      <td>61</td>\n",
              "      <td>1.384167</td>\n",
              "      <td>85</td>\n",
              "      <td>$16.61</td>\n",
              "      <td>2008</td>\n",
              "    </tr>\n",
              "    <tr>\n",
              "      <th>39</th>\n",
              "      <td>My Week with Marilyn</td>\n",
              "      <td>Drama</td>\n",
              "      <td>The Weinstein Company</td>\n",
              "      <td>84</td>\n",
              "      <td>0.825800</td>\n",
              "      <td>83</td>\n",
              "      <td>$8.26</td>\n",
              "      <td>2011</td>\n",
              "    </tr>\n",
              "    <tr>\n",
              "      <th>57</th>\n",
              "      <td>Jane Eyre</td>\n",
              "      <td>Romance</td>\n",
              "      <td>Universal</td>\n",
              "      <td>77</td>\n",
              "      <td>0.000000</td>\n",
              "      <td>85</td>\n",
              "      <td>$30.15</td>\n",
              "      <td>2011</td>\n",
              "    </tr>\n",
              "    <tr>\n",
              "      <th>71</th>\n",
              "      <td>Beginners</td>\n",
              "      <td>Comedy</td>\n",
              "      <td>Independent</td>\n",
              "      <td>80</td>\n",
              "      <td>4.471875</td>\n",
              "      <td>84</td>\n",
              "      <td>$14.31</td>\n",
              "      <td>2011</td>\n",
              "    </tr>\n",
              "    <tr>\n",
              "      <th>73</th>\n",
              "      <td>A Serious Man</td>\n",
              "      <td>Drama</td>\n",
              "      <td>Universal</td>\n",
              "      <td>64</td>\n",
              "      <td>4.382857</td>\n",
              "      <td>89</td>\n",
              "      <td>$30.68</td>\n",
              "      <td>2009</td>\n",
              "    </tr>\n",
              "    <tr>\n",
              "      <th>76</th>\n",
              "      <td>(500) Days of Summer</td>\n",
              "      <td>comedy</td>\n",
              "      <td>Fox</td>\n",
              "      <td>81</td>\n",
              "      <td>8.096000</td>\n",
              "      <td>87</td>\n",
              "      <td>$60.72</td>\n",
              "      <td>2009</td>\n",
              "    </tr>\n",
              "  </tbody>\n",
              "</table>\n",
              "</div>"
            ],
            "text/plain": [
              "                      Film      Genre  ... Worldwide Gross  Year\n",
              "7                 Waitress    Romance  ...         $22.18   2007\n",
              "22                 Tangled  Animation  ...        $355.01   2010\n",
              "29  Rachel Getting Married      Drama  ...         $16.61   2008\n",
              "39    My Week with Marilyn      Drama  ...          $8.26   2011\n",
              "57               Jane Eyre    Romance  ...         $30.15   2011\n",
              "71               Beginners     Comedy  ...         $14.31   2011\n",
              "73           A Serious Man      Drama  ...         $30.68   2009\n",
              "76    (500) Days of Summer     comedy  ...         $60.72   2009\n",
              "\n",
              "[8 rows x 8 columns]"
            ]
          },
          "metadata": {},
          "execution_count": 19
        }
      ]
    },
    {
      "cell_type": "markdown",
      "metadata": {
        "id": "kKDbYM-Dgqoa"
      },
      "source": [
        "visualizzare i film che hanno la parola “friends” nel titolo\n"
      ]
    },
    {
      "cell_type": "code",
      "metadata": {
        "colab": {
          "base_uri": "https://localhost:8080/",
          "height": 80
        },
        "id": "rWxHC5x6gqzp",
        "outputId": "5e0f370c-d4e5-4833-8d80-0de065dfe30d"
      },
      "source": [
        "movies.loc[movies['Film'].str.contains('friends')]"
      ],
      "execution_count": null,
      "outputs": [
        {
          "output_type": "execute_result",
          "data": {
            "text/html": [
              "<div>\n",
              "<style scoped>\n",
              "    .dataframe tbody tr th:only-of-type {\n",
              "        vertical-align: middle;\n",
              "    }\n",
              "\n",
              "    .dataframe tbody tr th {\n",
              "        vertical-align: top;\n",
              "    }\n",
              "\n",
              "    .dataframe thead th {\n",
              "        text-align: right;\n",
              "    }\n",
              "</style>\n",
              "<table border=\"1\" class=\"dataframe\">\n",
              "  <thead>\n",
              "    <tr style=\"text-align: right;\">\n",
              "      <th></th>\n",
              "      <th>Film</th>\n",
              "      <th>Genre</th>\n",
              "      <th>Lead Studio</th>\n",
              "      <th>Audience score %</th>\n",
              "      <th>Profitability</th>\n",
              "      <th>Rotten Tomatoes %</th>\n",
              "      <th>Worldwide Gross</th>\n",
              "      <th>Year</th>\n",
              "    </tr>\n",
              "  </thead>\n",
              "  <tbody>\n",
              "    <tr>\n",
              "      <th>66</th>\n",
              "      <td>Ghosts of Girlfriends Past</td>\n",
              "      <td>Comedy</td>\n",
              "      <td>Warner Bros.</td>\n",
              "      <td>47</td>\n",
              "      <td>2.0444</td>\n",
              "      <td>27</td>\n",
              "      <td>$102.22</td>\n",
              "      <td>2009</td>\n",
              "    </tr>\n",
              "  </tbody>\n",
              "</table>\n",
              "</div>"
            ],
            "text/plain": [
              "                          Film   Genre  ... Worldwide Gross  Year\n",
              "66  Ghosts of Girlfriends Past  Comedy  ...        $102.22   2009\n",
              "\n",
              "[1 rows x 8 columns]"
            ]
          },
          "metadata": {},
          "execution_count": 21
        }
      ]
    },
    {
      "cell_type": "markdown",
      "metadata": {
        "id": "UYwwM5mXhO16"
      },
      "source": [
        "visualizzare il valore più alto della recensione di Rotten Tomatoes\n"
      ]
    },
    {
      "cell_type": "code",
      "metadata": {
        "colab": {
          "base_uri": "https://localhost:8080/"
        },
        "id": "pnUr8F3bhPGY",
        "outputId": "d148d031-4f9c-4bd6-8906-ce29df7f13e0"
      },
      "source": [
        "movies['Rotten Tomatoes %'].max()"
      ],
      "execution_count": null,
      "outputs": [
        {
          "output_type": "execute_result",
          "data": {
            "text/plain": [
              "96"
            ]
          },
          "metadata": {},
          "execution_count": 22
        }
      ]
    },
    {
      "cell_type": "markdown",
      "metadata": {
        "id": "3goVNxuBi7sa"
      },
      "source": [
        "visualizzare il numero di film per ogni studio\n"
      ]
    },
    {
      "cell_type": "code",
      "metadata": {
        "colab": {
          "base_uri": "https://localhost:8080/"
        },
        "id": "4chsa28ki7z5",
        "outputId": "8096079c-6620-4a90-ff32-767f844349c9"
      },
      "source": [
        "movies.groupby(['Lead Studio'])['Film'].count()"
      ],
      "execution_count": null,
      "outputs": [
        {
          "output_type": "execute_result",
          "data": {
            "text/plain": [
              "Lead Studio\n",
              "20th Century Fox          2\n",
              "CBS                       1\n",
              "Disney                    8\n",
              "Fox                       6\n",
              "Independent              19\n",
              "Lionsgate                 2\n",
              "New Line                  1\n",
              "Paramount                 4\n",
              "Sony                      4\n",
              "Summit                    5\n",
              "The Weinstein Company     3\n",
              "Universal                 8\n",
              "Warner Bros.             14\n",
              "Name: Film, dtype: int64"
            ]
          },
          "metadata": {},
          "execution_count": 24
        }
      ]
    },
    {
      "cell_type": "markdown",
      "metadata": {
        "id": "ujme32hnjrRZ"
      },
      "source": [
        "aumentare del 10% il valore delle recensioni di Rotten Tomatoes\n"
      ]
    },
    {
      "cell_type": "code",
      "metadata": {
        "colab": {
          "base_uri": "https://localhost:8080/"
        },
        "id": "NUlve7ZNju0C",
        "outputId": "06b06761-234c-4efc-c118-fd095c4eb704"
      },
      "source": [
        "movies['Rotten Tomatoes %'].apply(lambda x : x +10)"
      ],
      "execution_count": null,
      "outputs": [
        {
          "output_type": "execute_result",
          "data": {
            "text/plain": [
              "0     74\n",
              "1     78\n",
              "2     53\n",
              "3     25\n",
              "4     38\n",
              "      ..\n",
              "72    64\n",
              "73    99\n",
              "74    89\n",
              "75    50\n",
              "76    97\n",
              "Name: Rotten Tomatoes %, Length: 77, dtype: int64"
            ]
          },
          "metadata": {},
          "execution_count": 25
        }
      ]
    }
  ]
}