{
  "nbformat": 4,
  "nbformat_minor": 0,
  "metadata": {
    "colab": {
      "name": "salvatore ambrosino",
      "provenance": []
    },
    "kernelspec": {
      "name": "python3",
      "display_name": "Python 3"
    },
    "language_info": {
      "name": "python"
    }
  },
  "cells": [
    {
      "cell_type": "markdown",
      "metadata": {
        "id": "H66U2E6NibhA"
      },
      "source": [
        "far inserie all'utente due valori interi"
      ]
    },
    {
      "cell_type": "code",
      "metadata": {
        "colab": {
          "base_uri": "https://localhost:8080/"
        },
        "id": "hO0FP0ofh6Lc",
        "outputId": "a29ff438-edb5-4d01-d2cc-34262ea4e581"
      },
      "source": [
        "\n",
        "num1 = int(input(\"inserire il primo numero \"))\n",
        "num2 = int(input(\"inserire il secondo numero \"))"
      ],
      "execution_count": null,
      "outputs": [
        {
          "name": "stdout",
          "output_type": "stream",
          "text": [
            "inserire il primo numero 10\n",
            "inserire il secondo numero 5\n"
          ]
        }
      ]
    },
    {
      "cell_type": "markdown",
      "metadata": {
        "id": "AwIiCWfBjCM4"
      },
      "source": [
        "effettuare le 4 operazioni aritmetiche tra i due numeri"
      ]
    },
    {
      "cell_type": "code",
      "metadata": {
        "colab": {
          "base_uri": "https://localhost:8080/"
        },
        "id": "8h86PqmVjGjB",
        "outputId": "6eb264d3-b7fc-466d-b292-3de57e30c853"
      },
      "source": [
        "\n",
        "print(\"add =   \"  +str(num1+num2)) \n",
        "print(\"sott =  \" +str(num1 - num2))\n",
        "print(\"molt =  \" +str(num1 * num2))\n",
        "print(\"div =  \" +str(num1 / num2))"
      ],
      "execution_count": null,
      "outputs": [
        {
          "output_type": "stream",
          "name": "stdout",
          "text": [
            "add =   15\n",
            "sott =  5\n",
            "molt =  50\n",
            "div =  2.0\n"
          ]
        }
      ]
    },
    {
      "cell_type": "markdown",
      "metadata": {
        "id": "-2wGj_47nHOR"
      },
      "source": [
        " effettuare l'elevamento a potenza del primo numero per il secondo"
      ]
    },
    {
      "cell_type": "code",
      "metadata": {
        "colab": {
          "base_uri": "https://localhost:8080/"
        },
        "id": "uysFF7_GnKi5",
        "outputId": "634c7fd8-2708-4d79-aa47-e635f8411dd7"
      },
      "source": [
        "print(\"potenza =  \" +str(pow(num1,num2)))"
      ],
      "execution_count": null,
      "outputs": [
        {
          "output_type": "stream",
          "name": "stdout",
          "text": [
            "potenza =  100000\n"
          ]
        }
      ]
    },
    {
      "cell_type": "markdown",
      "metadata": {
        "id": "DDZHXEw-oJne"
      },
      "source": [
        " effettuare il calcolo del resto della divisione tra il primo e il secondo numero"
      ]
    },
    {
      "cell_type": "code",
      "metadata": {
        "colab": {
          "base_uri": "https://localhost:8080/"
        },
        "id": "aj6OldNvoQMf",
        "outputId": "c047bd55-9486-46b5-9208-32076c3ea1c2"
      },
      "source": [
        "print(\"resto =  \" +str(num1%num2))"
      ],
      "execution_count": null,
      "outputs": [
        {
          "output_type": "stream",
          "name": "stdout",
          "text": [
            "resto =  0\n"
          ]
        }
      ]
    },
    {
      "cell_type": "markdown",
      "metadata": {
        "id": "E7Gxdxk9o23f"
      },
      "source": [
        "effettuare la divisione intera tra il primo e il secondo numero"
      ]
    },
    {
      "cell_type": "code",
      "metadata": {
        "colab": {
          "base_uri": "https://localhost:8080/"
        },
        "id": "lRkA9W8Jo7EX",
        "outputId": "02192864-7cc9-4996-e2a1-6d53a801a9ce"
      },
      "source": [
        "print(\"div int = \" +str(num1//num2))"
      ],
      "execution_count": null,
      "outputs": [
        {
          "output_type": "stream",
          "name": "stdout",
          "text": [
            "div int = 2\n"
          ]
        }
      ]
    },
    {
      "cell_type": "markdown",
      "metadata": {
        "id": "gXzkOcNdpLXW"
      },
      "source": [
        " incrementare di una unità entrambi i numeri"
      ]
    },
    {
      "cell_type": "code",
      "metadata": {
        "colab": {
          "base_uri": "https://localhost:8080/"
        },
        "id": "Q9MvRpxxpOje",
        "outputId": "9ad3186d-c4d0-4c57-8bb9-f6a15cdbfc2c"
      },
      "source": [
        "print(\"num1 +1 = \"+str(num1 + 1))\n",
        "print(\"num2 +1 = \"+str(num2 + 1))"
      ],
      "execution_count": null,
      "outputs": [
        {
          "output_type": "stream",
          "name": "stdout",
          "text": [
            "num1 +1 = 11\n",
            "num2 +1 = 6\n"
          ]
        }
      ]
    },
    {
      "cell_type": "markdown",
      "metadata": {
        "id": "K_1Nd_BupmOW"
      },
      "source": [
        "far inserie all'utente due valori: il primo rappresenta la sua altezza (in metri) e il secondo rappresenta il suo peso (in kg). Visualizzare poi l'IMC (google it...)"
      ]
    },
    {
      "cell_type": "code",
      "metadata": {
        "colab": {
          "base_uri": "https://localhost:8080/"
        },
        "id": "uyHyB8LBpoBg",
        "outputId": "59cb0854-5172-45d8-9579-c5dc79d835b6"
      },
      "source": [
        "val1 = float(input(\"inserire l'altezza  in metri \"))\n",
        "val2 = float(input(\"inserire il peso in kilogrammi \"))"
      ],
      "execution_count": null,
      "outputs": [
        {
          "name": "stdout",
          "output_type": "stream",
          "text": [
            "inserire l'altezza  in metri 1.88\n",
            "inserire il peso in kilogrammi 84\n"
          ]
        }
      ]
    },
    {
      "cell_type": "markdown",
      "metadata": {
        "id": "O_Z0QqTdsCr1"
      },
      "source": [
        "arrotondare l'IMC precedente"
      ]
    },
    {
      "cell_type": "code",
      "metadata": {
        "colab": {
          "base_uri": "https://localhost:8080/"
        },
        "id": "1PNlyBQQsm3s",
        "outputId": "31b41132-f9f8-4a61-b030-f2f192abe340"
      },
      "source": [
        "imc= round(23,7)\n",
        "print(imc)"
      ],
      "execution_count": null,
      "outputs": [
        {
          "output_type": "stream",
          "name": "stdout",
          "text": [
            "23\n"
          ]
        }
      ]
    },
    {
      "cell_type": "markdown",
      "metadata": {
        "id": "qW3Hcg1muYvN"
      },
      "source": [
        "visualizzare il proprio nome, cognome, data di nascita e città di nascita separando le informazioni con un trattino."
      ]
    },
    {
      "cell_type": "code",
      "metadata": {
        "colab": {
          "base_uri": "https://localhost:8080/"
        },
        "id": "oUm2HlSouZ2E",
        "outputId": "cdc8b1ae-7a56-4159-f0e3-be3d24bb1736"
      },
      "source": [
        "nome =  str(input(\"nome : \")) \n",
        "cognome =  str(input(\"cognome : \"))\n",
        "data =  str(input(\"data di nascita : \"))\n",
        "città =  str(input(\"città di nascita : \"))"
      ],
      "execution_count": null,
      "outputs": [
        {
          "name": "stdout",
          "output_type": "stream",
          "text": [
            "nome : salvatore\n",
            "cognome : ambrosino\n",
            "data di nascita : 03/05/2005\n",
            "città di nascita : NAPOLI\n"
          ]
        }
      ]
    },
    {
      "cell_type": "markdown",
      "metadata": {
        "id": "d9rSAp30w1hi"
      },
      "source": [
        "visualizzare le stesse informazioni per 10 volte di seguito"
      ]
    },
    {
      "cell_type": "code",
      "metadata": {
        "colab": {
          "base_uri": "https://localhost:8080/"
        },
        "id": "tK-yU6X1w2IC",
        "outputId": "1b1ada7b-cc85-44c5-8b51-29e5545becdf"
      },
      "source": [
        "informazioni = (nome,cognome,data,città)\n",
        "print(informazioni * 10)"
      ],
      "execution_count": null,
      "outputs": [
        {
          "output_type": "stream",
          "name": "stdout",
          "text": [
            "('salvatore', 'ambrosino', '03/05/2005', 'NAPOLI', 'salvatore', 'ambrosino', '03/05/2005', 'NAPOLI', 'salvatore', 'ambrosino', '03/05/2005', 'NAPOLI', 'salvatore', 'ambrosino', '03/05/2005', 'NAPOLI', 'salvatore', 'ambrosino', '03/05/2005', 'NAPOLI', 'salvatore', 'ambrosino', '03/05/2005', 'NAPOLI', 'salvatore', 'ambrosino', '03/05/2005', 'NAPOLI', 'salvatore', 'ambrosino', '03/05/2005', 'NAPOLI', 'salvatore', 'ambrosino', '03/05/2005', 'NAPOLI', 'salvatore', 'ambrosino', '03/05/2005', 'NAPOLI')\n"
          ]
        }
      ]
    },
    {
      "cell_type": "markdown",
      "metadata": {
        "id": "gCTMYLLJ4ONF"
      },
      "source": [
        "assegnare il proprio nome e cognome ad una stringa e visualizzarla con tutte le lettere maiuscole"
      ]
    },
    {
      "cell_type": "code",
      "metadata": {
        "id": "Lr60ksJK4RXF",
        "colab": {
          "base_uri": "https://localhost:8080/"
        },
        "outputId": "274a4d45-3515-47e3-d7da-2030162f1303"
      },
      "source": [
        "string = \"salvatore ambrosino \"\n",
        "\n",
        "uppercasestring = string.upper()\n",
        "\n",
        "print(uppercasestring)"
      ],
      "execution_count": 59,
      "outputs": [
        {
          "output_type": "stream",
          "name": "stdout",
          "text": [
            "SALVATORE AMBROSINO \n"
          ]
        }
      ]
    },
    {
      "cell_type": "markdown",
      "metadata": {
        "id": "dx7au-IOFJVy"
      },
      "source": [
        " assegnare il proprio nome e cognome ad una stringa e visualizzarla con le prime lettere maiuscole"
      ]
    },
    {
      "cell_type": "code",
      "metadata": {
        "colab": {
          "base_uri": "https://localhost:8080/"
        },
        "id": "IxMCBIXwFQUg",
        "outputId": "78b6b1a3-49f9-4a02-a298-e0156510840f"
      },
      "source": [
        "string = \"salvatore ambrosino \"\n",
        "print(string.title())"
      ],
      "execution_count": 58,
      "outputs": [
        {
          "output_type": "stream",
          "name": "stdout",
          "text": [
            "Salvatore Ambrosino \n"
          ]
        }
      ]
    },
    {
      "cell_type": "markdown",
      "metadata": {
        "id": "anp6CQdGFhjh"
      },
      "source": [
        "assegnare il proprio nome e cognome ad una stringa e visualizzarne la lunghezza"
      ]
    },
    {
      "cell_type": "code",
      "metadata": {
        "colab": {
          "base_uri": "https://localhost:8080/"
        },
        "id": "8vaOYbBiFiMw",
        "outputId": "f84cfeca-7cd4-4aaa-ed7f-c9b239af1d7e"
      },
      "source": [
        "string = \"salvatore Ambrosino\"\n",
        "lunghezza = len(string)\n",
        "print(lunghezza)"
      ],
      "execution_count": 60,
      "outputs": [
        {
          "output_type": "stream",
          "name": "stdout",
          "text": [
            "19\n"
          ]
        }
      ]
    },
    {
      "cell_type": "markdown",
      "metadata": {
        "id": "8fY7Bc6NF9x4"
      },
      "source": [
        "assegnare il proprio nome e cognome ad una stringa e contate quante vocali contiene"
      ]
    },
    {
      "cell_type": "code",
      "metadata": {
        "colab": {
          "base_uri": "https://localhost:8080/"
        },
        "id": "gEjzmbHEF9fA",
        "outputId": "5d9f8f14-b60c-4d67-9088-38f4ab5afa13"
      },
      "source": [
        "string = \"salvatore ambrosino \"\n",
        "contatore=0\n",
        "vocali= set('aeiou')\n",
        "for lettera in string:\n",
        "    if lettera in vocali:contatore=contatore+1\n",
        "print(contatore)"
      ],
      "execution_count": 92,
      "outputs": [
        {
          "output_type": "stream",
          "name": "stdout",
          "text": [
            "8\n"
          ]
        }
      ]
    },
    {
      "cell_type": "markdown",
      "metadata": {
        "id": "bcbhM2VnKTH6"
      },
      "source": [
        " assegnare il proprio nome e cognome ad una stringa e visualizzare i primi 5 caratteri"
      ]
    },
    {
      "cell_type": "code",
      "metadata": {
        "colab": {
          "base_uri": "https://localhost:8080/"
        },
        "id": "nLsNpbCjKZTi",
        "outputId": "8a741669-5d7c-4f94-8e05-2885a417e720"
      },
      "source": [
        "string = \"Salvatore Ambrosino \"\n",
        "print(string[0:5])\n"
      ],
      "execution_count": 63,
      "outputs": [
        {
          "output_type": "stream",
          "name": "stdout",
          "text": [
            "Salva\n"
          ]
        }
      ]
    },
    {
      "cell_type": "markdown",
      "metadata": {
        "id": "jVC2TbiKLiDz"
      },
      "source": [
        " assegnare il proprio nome e cognome ad una stringa e visualizzare gli ultimi 5 caratteri"
      ]
    },
    {
      "cell_type": "code",
      "metadata": {
        "colab": {
          "base_uri": "https://localhost:8080/"
        },
        "id": "HmuWPEH7LsZ6",
        "outputId": "8d20e4e1-1284-4cfa-c0f2-e1c03cebae60"
      },
      "source": [
        "string = \"Salvatore Ambrosino \"\n",
        "print(string[14:19])"
      ],
      "execution_count": 64,
      "outputs": [
        {
          "output_type": "stream",
          "name": "stdout",
          "text": [
            "osino\n"
          ]
        }
      ]
    },
    {
      "cell_type": "markdown",
      "metadata": {
        "id": "tuNOGY0wMEsD"
      },
      "source": [
        "assegnare il proprio nome e cognome ad una stringa e visualizzare i 5 caratteri centrali"
      ]
    },
    {
      "cell_type": "code",
      "metadata": {
        "colab": {
          "base_uri": "https://localhost:8080/"
        },
        "id": "UQKYMDnrMIBS",
        "outputId": "1db8b340-f678-48f0-a5ca-05cd7e71ee13"
      },
      "source": [
        "string = \"Salvatore Ambrosino \"\n",
        "print(string[7:12])"
      ],
      "execution_count": 66,
      "outputs": [
        {
          "output_type": "stream",
          "name": "stdout",
          "text": [
            "re Am\n"
          ]
        }
      ]
    },
    {
      "cell_type": "markdown",
      "metadata": {
        "id": "pkL7em-4MTci"
      },
      "source": [
        "assegnare il proprio nome e cognome ad una stringa e sostituire le vocali con una X"
      ]
    },
    {
      "cell_type": "code",
      "metadata": {
        "colab": {
          "base_uri": "https://localhost:8080/"
        },
        "id": "Oj7IZfnCMXOa",
        "outputId": "5546142b-ef3c-4553-ee8b-76c79896714c"
      },
      "source": [
        "s='salvatore ambrosino'\n",
        "\n",
        "sX=s.replace('a','X').replace('e','X').replace('i','X').replace('o','X')\n",
        "\n",
        "\n",
        "print(sX,)\n",
        "\n"
      ],
      "execution_count": 134,
      "outputs": [
        {
          "output_type": "stream",
          "name": "stdout",
          "text": [
            "sXlvXtXrX XmbrXsXnX\n"
          ]
        }
      ]
    }
  ]
}